{
  "nbformat": 4,
  "nbformat_minor": 0,
  "metadata": {
    "colab": {
      "name": "Sentiment_FeedForward_Pytorch.ipynb",
      "provenance": [],
      "collapsed_sections": []
    },
    "kernelspec": {
      "name": "python3",
      "display_name": "Python 3"
    },
    "language_info": {
      "name": "python"
    },
    "accelerator": "GPU"
  },
  "cells": [
    {
      "cell_type": "code",
      "metadata": {
        "colab": {
          "base_uri": "https://localhost:8080/"
        },
        "id": "Otw6E8CLnUM7",
        "outputId": "5a08da07-a9e0-407e-9159-2ac48931a9ac"
      },
      "source": [
        "!pip install nltk\n",
        "#!pip install pyspellchecker"
      ],
      "execution_count": null,
      "outputs": [
        {
          "output_type": "stream",
          "text": [
            "Requirement already satisfied: nltk in /usr/local/lib/python3.7/dist-packages (3.2.5)\n",
            "Requirement already satisfied: six in /usr/local/lib/python3.7/dist-packages (from nltk) (1.15.0)\n"
          ],
          "name": "stdout"
        }
      ]
    },
    {
      "cell_type": "code",
      "metadata": {
        "colab": {
          "base_uri": "https://localhost:8080/",
          "height": 262
        },
        "id": "VlsB1YkfnQnh",
        "outputId": "b31b2cc1-d020-4315-d62c-307cbb9843cc"
      },
      "source": [
        "import pandas as pd\n",
        "import numpy as np\n",
        "import matplotlib.pyplot as plt\n",
        "import nltk\n",
        "from nltk.tokenize import word_tokenize\n",
        "from nltk.stem import WordNetLemmatizer, PorterStemmer\n",
        "nltk.download([\"punkt\",\"wordnet\"])\n",
        "#from sklearn.feature_extraction.text import TfidfVectorizer\n",
        "from sklearn.model_selection import train_test_split\n",
        "from sklearn.metrics import classification_report\n",
        "import re\n",
        "import torch\n",
        "import torch.nn as nn\n",
        "import torch.nn.functional as F\n",
        "import torch.optim as optim\n",
        "#from spellchecker import SpellChecker\n",
        "from gensim import corpora\n",
        "\n",
        "\n",
        "df= pd.read_csv(\"IMDB Dataset.csv\") \n",
        "df.head()"
      ],
      "execution_count": 78,
      "outputs": [
        {
          "output_type": "stream",
          "text": [
            "[nltk_data] Downloading package punkt to /root/nltk_data...\n",
            "[nltk_data]   Package punkt is already up-to-date!\n",
            "[nltk_data] Downloading package wordnet to /root/nltk_data...\n",
            "[nltk_data]   Package wordnet is already up-to-date!\n"
          ],
          "name": "stdout"
        },
        {
          "output_type": "execute_result",
          "data": {
            "text/html": [
              "<div>\n",
              "<style scoped>\n",
              "    .dataframe tbody tr th:only-of-type {\n",
              "        vertical-align: middle;\n",
              "    }\n",
              "\n",
              "    .dataframe tbody tr th {\n",
              "        vertical-align: top;\n",
              "    }\n",
              "\n",
              "    .dataframe thead th {\n",
              "        text-align: right;\n",
              "    }\n",
              "</style>\n",
              "<table border=\"1\" class=\"dataframe\">\n",
              "  <thead>\n",
              "    <tr style=\"text-align: right;\">\n",
              "      <th></th>\n",
              "      <th>review</th>\n",
              "      <th>sentiment</th>\n",
              "    </tr>\n",
              "  </thead>\n",
              "  <tbody>\n",
              "    <tr>\n",
              "      <th>0</th>\n",
              "      <td>One of the other reviewers has mentioned that ...</td>\n",
              "      <td>positive</td>\n",
              "    </tr>\n",
              "    <tr>\n",
              "      <th>1</th>\n",
              "      <td>A wonderful little production. &lt;br /&gt;&lt;br /&gt;The...</td>\n",
              "      <td>positive</td>\n",
              "    </tr>\n",
              "    <tr>\n",
              "      <th>2</th>\n",
              "      <td>I thought this was a wonderful way to spend ti...</td>\n",
              "      <td>positive</td>\n",
              "    </tr>\n",
              "    <tr>\n",
              "      <th>3</th>\n",
              "      <td>Basically there's a family where a little boy ...</td>\n",
              "      <td>negative</td>\n",
              "    </tr>\n",
              "    <tr>\n",
              "      <th>4</th>\n",
              "      <td>Petter Mattei's \"Love in the Time of Money\" is...</td>\n",
              "      <td>positive</td>\n",
              "    </tr>\n",
              "  </tbody>\n",
              "</table>\n",
              "</div>"
            ],
            "text/plain": [
              "                                              review sentiment\n",
              "0  One of the other reviewers has mentioned that ...  positive\n",
              "1  A wonderful little production. <br /><br />The...  positive\n",
              "2  I thought this was a wonderful way to spend ti...  positive\n",
              "3  Basically there's a family where a little boy ...  negative\n",
              "4  Petter Mattei's \"Love in the Time of Money\" is...  positive"
            ]
          },
          "metadata": {
            "tags": []
          },
          "execution_count": 78
        }
      ]
    },
    {
      "cell_type": "code",
      "metadata": {
        "colab": {
          "base_uri": "https://localhost:8080/"
        },
        "id": "H6Wwl9ugnXf-",
        "outputId": "63a1e9f7-48d0-491f-fafa-36ffba5214c2"
      },
      "source": [
        "df[\"sentiment\"].unique()"
      ],
      "execution_count": 79,
      "outputs": [
        {
          "output_type": "execute_result",
          "data": {
            "text/plain": [
              "array(['positive', 'negative'], dtype=object)"
            ]
          },
          "metadata": {
            "tags": []
          },
          "execution_count": 79
        }
      ]
    },
    {
      "cell_type": "markdown",
      "metadata": {
        "id": "zm-TrNXNTl3i"
      },
      "source": [
        "Hence, the sentiment is either postive or negative, we need to convert these values to binary values to feed it into our model"
      ]
    },
    {
      "cell_type": "code",
      "metadata": {
        "id": "slLj3kgioCra"
      },
      "source": [
        "df[\"sentiment\"]= pd.Series(np.where(df[\"sentiment\"]==\"positive\",1,0))"
      ],
      "execution_count": 80,
      "outputs": []
    },
    {
      "cell_type": "code",
      "metadata": {
        "colab": {
          "base_uri": "https://localhost:8080/",
          "height": 292
        },
        "id": "ZthXvTPhoCn9",
        "outputId": "fa0e2f30-a247-44d8-a0a0-0fe69d5f5ec9"
      },
      "source": [
        "df[\"sentiment\"].value_counts().plot.bar(title= \"Sentiment Distribution in the dataset\")\n",
        "plt.xlabel(\"Sentiments\")\n",
        "plt.show()"
      ],
      "execution_count": 81,
      "outputs": [
        {
          "output_type": "display_data",
          "data": {
            "image/png": "[encoded data removed]",
            "text/plain": [
              "<Figure size 432x288 with 1 Axes>"
            ]
          },
          "metadata": {
            "tags": [],
            "needs_background": "light"
          }
        }
      ]
    },
    {
      "cell_type": "code",
      "metadata": {
        "colab": {
          "base_uri": "https://localhost:8080/",
          "height": 195
        },
        "id": "RabqWOwnoBXf",
        "outputId": "fe420892-a4e8-4ea4-fcad-98082f893a3d"
      },
      "source": [
        "def get_data(top_n = 5000):\n",
        "    df_positive = df[df['sentiment'] == 1].head(top_n)\n",
        "    df_negative = df[df['sentiment'] == 0].head(top_n)\n",
        "    df_small = pd.concat([df_positive, df_negative])\n",
        "    return df_small\n",
        "\n",
        "df_small = get_data(top_n=5000)\n",
        "\n",
        "df_small.head()"
      ],
      "execution_count": 82,
      "outputs": [
        {
          "output_type": "execute_result",
          "data": {
            "text/html": [
              "<div>\n",
              "<style scoped>\n",
              "    .dataframe tbody tr th:only-of-type {\n",
              "        vertical-align: middle;\n",
              "    }\n",
              "\n",
              "    .dataframe tbody tr th {\n",
              "        vertical-align: top;\n",
              "    }\n",
              "\n",
              "    .dataframe thead th {\n",
              "        text-align: right;\n",
              "    }\n",
              "</style>\n",
              "<table border=\"1\" class=\"dataframe\">\n",
              "  <thead>\n",
              "    <tr style=\"text-align: right;\">\n",
              "      <th></th>\n",
              "      <th>review</th>\n",
              "      <th>sentiment</th>\n",
              "    </tr>\n",
              "  </thead>\n",
              "  <tbody>\n",
              "    <tr>\n",
              "      <th>0</th>\n",
              "      <td>One of the other reviewers has mentioned that ...</td>\n",
              "      <td>1</td>\n",
              "    </tr>\n",
              "    <tr>\n",
              "      <th>1</th>\n",
              "      <td>A wonderful little production. &lt;br /&gt;&lt;br /&gt;The...</td>\n",
              "      <td>1</td>\n",
              "    </tr>\n",
              "    <tr>\n",
              "      <th>2</th>\n",
              "      <td>I thought this was a wonderful way to spend ti...</td>\n",
              "      <td>1</td>\n",
              "    </tr>\n",
              "    <tr>\n",
              "      <th>4</th>\n",
              "      <td>Petter Mattei's \"Love in the Time of Money\" is...</td>\n",
              "      <td>1</td>\n",
              "    </tr>\n",
              "    <tr>\n",
              "      <th>5</th>\n",
              "      <td>Probably my all-time favorite movie, a story o...</td>\n",
              "      <td>1</td>\n",
              "    </tr>\n",
              "  </tbody>\n",
              "</table>\n",
              "</div>"
            ],
            "text/plain": [
              "                                              review  sentiment\n",
              "0  One of the other reviewers has mentioned that ...          1\n",
              "1  A wonderful little production. <br /><br />The...          1\n",
              "2  I thought this was a wonderful way to spend ti...          1\n",
              "4  Petter Mattei's \"Love in the Time of Money\" is...          1\n",
              "5  Probably my all-time favorite movie, a story o...          1"
            ]
          },
          "metadata": {
            "tags": []
          },
          "execution_count": 82
        }
      ]
    },
    {
      "cell_type": "markdown",
      "metadata": {
        "id": "0LL0t2B5TuFW"
      },
      "source": [
        "As we can see the dataset is quite balanced with almost equal number of data for both the target variables"
      ]
    },
    {
      "cell_type": "markdown",
      "metadata": {
        "id": "sspPlKLtT1L5"
      },
      "source": [
        "## Text Preprocessing:-"
      ]
    },
    {
      "cell_type": "markdown",
      "metadata": {
        "id": "om6u4bKjTzr-"
      },
      "source": [
        "1. Removing punctuations,symbols,html tags\n",
        "2. lemmitisation, Spelling Correction\n",
        "3. Tokenisation\n",
        "##### left possibility- removing numbers"
      ]
    },
    {
      "cell_type": "markdown",
      "metadata": {
        "id": "BZkVUnBLUZmZ"
      },
      "source": [
        "### Why do you need to preprocess this text?\n",
        "Not all the information is useful in making predictions or doing classifications. Reducing the number of words will reduce the input dimension to your model. The way the language is written, it contains lot of information which is grammar specific. Thus when converting to numeric format, word specific characteristics like capitalisation, punctuations, suffixes/prefixes etc. are redundant. Cleaning the data in a way that similar words map to single word and removing the grammar relevant information from text can tremendously reduce the vocabulary. Which methods to apply and which ones to skip depends on the problem at hand."
      ]
    },
    {
      "cell_type": "code",
      "metadata": {
        "id": "G77tK6TWoCdh"
      },
      "source": [
        "TEXT_CLEANING_RE = \"@\\S+|https?:\\S+|http?:\\S+|[^A-Za-z0-9]+\""
      ],
      "execution_count": 83,
      "outputs": []
    },
    {
      "cell_type": "markdown",
      "metadata": {
        "id": "wUJnS7qkUjn9"
      },
      "source": [
        "Lowercasing and removing all sorts of punctuations including html tags, urls"
      ]
    },
    {
      "cell_type": "code",
      "metadata": {
        "id": "I3PIwIWupl7h"
      },
      "source": [
        "def clean_text(text):\n",
        "  text = re.sub(TEXT_CLEANING_RE,' ', str(text).lower()).strip()\n",
        "  tokens = []\n",
        "  for token in text.split():\n",
        "    tokens.append(token)\n",
        "  return \" \".join(tokens)\n",
        "\n",
        "df_small[\"review\"]= df_small[\"review\"].apply(lambda text: clean_text(text))"
      ],
      "execution_count": 84,
      "outputs": []
    },
    {
      "cell_type": "code",
      "metadata": {
        "id": "1mRG4jeMSBTR"
      },
      "source": [
        "lemma= WordNetLemmatizer()\n",
        "def lemmatize_text(text):\n",
        "  return \" \".join([lemma.lemmatize(word) for word in text.split()])\n",
        "\n",
        "df_small[\"lemmatised_text\"]= df_small[\"review\"].apply(lambda text: lemmatize_text(str(text)))"
      ],
      "execution_count": 85,
      "outputs": []
    },
    {
      "cell_type": "code",
      "metadata": {
        "id": "T_rR5YS7q4kw",
        "colab": {
          "base_uri": "https://localhost:8080/"
        },
        "outputId": "ad359202-f61e-4848-a869-90ec694916eb"
      },
      "source": [
        "df_small[\"tokenized_text\"]=df_small[\"lemmatised_text\"].apply(lambda text: word_tokenize(text))\n",
        "df_small[\"tokenized_text\"]"
      ],
      "execution_count": 86,
      "outputs": [
        {
          "output_type": "execute_result",
          "data": {
            "text/plain": [
              "0        [one, of, the, other, reviewer, ha, mentioned,...\n",
              "1        [a, wonderful, little, production, br, br, the...\n",
              "2        [i, thought, this, wa, a, wonderful, way, to, ...\n",
              "4        [petter, mattei, s, love, in, the, time, of, m...\n",
              "5        [probably, my, all, time, favorite, movie, a, ...\n",
              "                               ...                        \n",
              "10038    [it, surprisingly, had, a, plot, i, ve, seen, ...\n",
              "10039    [i, suppose, i, m, supposed, to, take, somethi...\n",
              "10044    [this, is, strictly, for, pryor, fan, just, be...\n",
              "10047    [the, only, saving, grace, of, this, movie, is...\n",
              "10048    [this, may, contain, spoiler, br, br, where, t...\n",
              "Name: tokenized_text, Length: 10000, dtype: object"
            ]
          },
          "metadata": {
            "tags": []
          },
          "execution_count": 86
        }
      ]
    },
    {
      "cell_type": "code",
      "metadata": {
        "id": "u2uHKJGAq4Yq"
      },
      "source": [
        "#def stem(text):\n",
        "  #ps=PorterStemmer()\n",
        "  #return \" \".join([ps.stem(word) for word in text.split()])\n",
        "\n",
        "#df_small[\"review\"]= df_small[\"review\"].apply(lambda text: stem(text))\n",
        "\n",
        "#spell= SpellChecker()\n",
        "#def spellcheck(text):\n",
        "  #misspelled_word= spell.unknown(text.split())\n",
        "  #return \" \".join([spell.correction(word) if word in misspelled_word else word for word in text.split()])\n",
        "\n",
        "#df_small[\"review\"]= df_small[\"review\"].apply(lambda text: spellcheck(text))"
      ],
      "execution_count": 87,
      "outputs": []
    },
    {
      "cell_type": "markdown",
      "metadata": {
        "id": "0JNOKj7ZVMFT"
      },
      "source": [
        "Splitting into train and test set:-"
      ]
    },
    {
      "cell_type": "code",
      "metadata": {
        "id": "7uKjLVeWq4V2"
      },
      "source": [
        "X_train, X_test, Y_train, Y_test = train_test_split(df_small[['tokenized_text']], df_small['sentiment'],shuffle=True,test_size=0.2,random_state=10)\n",
        "\n",
        "X_train = X_train.reset_index()\n",
        "X_test = X_test.reset_index()\n",
        "Y_train = Y_train.to_frame()\n",
        "Y_train = Y_train.reset_index()\n",
        "Y_test = Y_test.to_frame()\n",
        "Y_test = Y_test.reset_index()"
      ],
      "execution_count": 88,
      "outputs": []
    },
    {
      "cell_type": "code",
      "metadata": {
        "colab": {
          "base_uri": "https://localhost:8080/"
        },
        "id": "8-r08a0gq4T7",
        "outputId": "15fb9157-7aeb-4716-a114-876a262d6b9a"
      },
      "source": [
        "if torch.cuda.is_available():\n",
        "  device= torch.device(\"cuda\")\n",
        "else:\n",
        "  device= torch.device(\"cpu\")\n",
        "print(device)"
      ],
      "execution_count": 89,
      "outputs": [
        {
          "output_type": "stream",
          "text": [
            "cpu\n"
          ],
          "name": "stdout"
        }
      ]
    },
    {
      "cell_type": "markdown",
      "metadata": {
        "id": "TqDy-QBFV1Rt"
      },
      "source": [
        "## Defining the Feed forward model."
      ]
    },
    {
      "cell_type": "markdown",
      "metadata": {
        "id": "29ktz1EtV420"
      },
      "source": [
        "I have taken  hidden layer with different neurons. And to start with have considered Relu activation function"
      ]
    },
    {
      "cell_type": "code",
      "metadata": {
        "id": "ns1zerd1sOQd"
      },
      "source": [
        "class FeedforwardNN(nn.Module):\n",
        "    def __init__(self, input_dim, hidden_dim, output_dim):\n",
        "        super(FeedforwardNN, self).__init__()\n",
        "        \n",
        "        # First Hidden Layer:-\n",
        "        self.f1 = nn.Linear(input_dim, hidden_dim) \n",
        "        # Adding Non-linearity \n",
        "        self.relu1 = nn.ReLU()\n",
        "\n",
        "        # Second Hidden Layer:-\n",
        "        self.f2 = nn.Linear(hidden_dim, hidden_dim) \n",
        "        # Non-linearity 2\n",
        "        self.relu2 = nn.ReLU()\n",
        "\n",
        "        # Third Hidden Layer:-\n",
        "        self.f3 = nn.Linear(hidden_dim, hidden_dim) \n",
        "        # Non-linearity 3\n",
        "        self.relu3 = nn.ReLU()\n",
        "\n",
        "        # Output Layer\n",
        "        self.f4 = nn.Linear(hidden_dim, output_dim)  \n",
        "\n",
        "    def forward(self, x):\n",
        "       \n",
        "        # Linear function 1\n",
        "        out = self.f1(x)\n",
        "        # Non-linearity 1\n",
        "        out = self.relu1(out)\n",
        "\n",
        "        # Linear function 2\n",
        "        out = self.f2(out)\n",
        "        # Non-linearity 2\n",
        "        out = self.relu2(out)\n",
        "\n",
        "        # Linear function 3\n",
        "        out = self.f3(out)\n",
        "        # Non-linearity 3\n",
        "        out = self.relu3(out)\n",
        "\n",
        "        #output\n",
        "        out = self.f4(out)\n",
        "\n",
        "        return F.softmax(out, dim=1)"
      ],
      "execution_count": 90,
      "outputs": []
    },
    {
      "cell_type": "code",
      "metadata": {
        "id": "XR979j_krHpc"
      },
      "source": [
        "# Function to return the dictionary\n",
        "def make_dict(df_small):\n",
        "  vocab_dict = corpora.Dictionary(df_small[\"tokenized_text\"])\n",
        "  return vocab_dict\n",
        "\n",
        "# Make the dictionary:-\n",
        "vocab_dict = make_dict(df_small)"
      ],
      "execution_count": 91,
      "outputs": []
    },
    {
      "cell_type": "code",
      "metadata": {
        "id": "93wCD5b0rHl2"
      },
      "source": [
        "Vocab_size = len(vocab_dict)\n",
        "# Function to make bow vector to be used as input to network\n",
        "def make_bow_vector(vocab_dict, sentence):\n",
        "  vec = torch.zeros(Vocab_size, dtype=torch.float64, device=device)\n",
        "  for word in sentence:\n",
        "      vec[vocab_dict.token2id[word]] += 1\n",
        "  return vec.view(1, -1).float()"
      ],
      "execution_count": 92,
      "outputs": []
    },
    {
      "cell_type": "code",
      "metadata": {
        "id": "wK6zfgHMrHj4"
      },
      "source": [
        "def make_target(label):\n",
        "    if label == 1:\n",
        "        return torch.tensor([1], dtype=torch.long, device=device)\n",
        "    else:\n",
        "        return torch.tensor([0], dtype=torch.long, device=device)"
      ],
      "execution_count": 93,
      "outputs": []
    },
    {
      "cell_type": "code",
      "metadata": {
        "id": "anfZZaMMrHhe"
      },
      "source": [
        "input_dim= Vocab_size\n",
        "hidden_dim= 500\n",
        "output_dim=2\n",
        "num_epochs=10\n",
        "learning_rate=0.1\n",
        "# RUN TRAINING AND TEST\n",
        "\n",
        "ff_nn_bow_model= FeedforwardNN(input_dim,hidden_dim,output_dim)\n",
        "ff_nn_bow_model.to(device)\n",
        "\n",
        "loss_function= nn.CrossEntropyLoss()\n",
        "optimizer= optim.Adam(ff_nn_bow_model.parameters(), lr=learning_rate)"
      ],
      "execution_count": 94,
      "outputs": []
    },
    {
      "cell_type": "code",
      "metadata": {
        "id": "P7LXxXR7rHej"
      },
      "source": [
        "#writing the loss value in a file\n",
        "ffnn_loss_file_name = \"ffnn_loss.csv\"\n",
        "f= open(ffnn_loss_file_name,\"w\")\n",
        "f.write(\"iter.loss\")\n",
        "f.write(\"\\n\")\n",
        "losses=[]\n",
        "iter=0\n",
        "batch_size=100\n",
        "#starting training\n",
        "for epoch in range(num_epochs):\n",
        "  train_loss=0\n",
        "  for index, row in X_train.iterrows():\n",
        "    #Clearing the accumulated gradients\n",
        "    # Zero out the gradients from the FFNN object. *THIS IS VERY IMPORTANT TO DO BEFORE CALLING BACKWARD()*\n",
        "    optimizer.zero_grad()\n",
        "\n",
        "    # Make the bag of words vector for stemmed tokens \n",
        "    bow_vec = make_bow_vector(vocab_dict, row[\"tokenized_text\"])\n",
        "      \n",
        "    #Forward pass to get output\n",
        "    probs = ff_nn_bow_model(bow_vec)\n",
        "\n",
        "    #Getting the target label\n",
        "    target = make_target(Y_train[\"sentiment\"][index])\n",
        "\n",
        "    #Calculate loss\n",
        "    loss = loss_function(probs,target)\n",
        "    \n",
        "    #Accumulating the loss over time\n",
        "    train_loss+=loss.item()\n",
        "    \n",
        "    #Getting gradients wrt paramters:-\n",
        "    loss.backward()\n",
        "\n",
        "    #Updating Paramters\n",
        "    optimizer.step()\n",
        "\n",
        "  f.write(str(epoch+1)+ \",\" + str(train_loss/len(X_train))  )\n",
        "  f.write(\"\\n\")\n",
        "  train_loss=0\n",
        "\n",
        "f.close()"
      ],
      "execution_count": null,
      "outputs": []
    },
    {
      "cell_type": "code",
      "metadata": {
        "id": "Rpr3w8GQrHTV"
      },
      "source": [
        "bow_ff_nn_predictions = []\n",
        "original_lables_ff_bow = []\n",
        "with torch.no_grad():\n",
        "    for index, row in X_test.iterrows():\n",
        "        bow_vec = make_bow_vector(vocab_dict, row)\n",
        "        probs = ff_nn_bow_model(bow_vec)\n",
        "        bow_ff_nn_predictions.append(torch.argmax(probs, dim=1).cpu().numpy()[0])\n",
        "        original_lables_ff_bow.append(make_target(Y_test[\"sentiment\"][index]).cpu().numpy()[0])\n",
        "print(classification_report(original_lables_ff_bow,bow_ff_nn_predictions))"
      ],
      "execution_count": null,
      "outputs": []
    },
    {
      "cell_type": "code",
      "metadata": {
        "id": "dHpSZyw_sAmw"
      },
      "source": [
        "for epoch in range(0, num_epochs):\n",
        "        ex_indices = [i for i in range(0, len(train_ys))]\n",
        "        random.shuffle(ex_indices)\n",
        "        total_loss = 0.0\n",
        "        for idx in ex_indices:\n",
        "            x = form_input(train_xs[idx])\n",
        "            y = train_ys[idx]\n",
        "            # Build one-hot representation of y\n",
        "            y_onehot = torch.zeros(num_classes)\n",
        "            y_onehot.scatter_(0, torch.from_numpy(np.asarray(y,dtype=np.long)), 1)\n",
        "            # Zero out the gradients from the FFNN object. *THIS IS VERY IMPORTANT TO DO BEFORE CALLING BACKWARD()*\n",
        "            ffnn.zero_grad()\n",
        "            probs = ffnn.forward(x)\n",
        "            # Can also use built-in NLLLoss as a shortcut here (takes log probabilities) but we're being explicit here\n",
        "            loss = torch.neg(torch.log(probs)).dot(y_onehot)\n",
        "            total_loss += loss\n",
        "            loss.backward()\n",
        "            optimizer.step()\n",
        "        print(\"Loss on epoch %i: %f\" % (epoch, total_loss))\n",
        "\n",
        "   train_correct = 0\n",
        "    for idx in range(0, len(train_xs)):\n",
        "        # Note that we only feed in the x, not the y, since we're not training. We're also extracting different\n",
        "        # quantities from the running of the computation graph, namely the probabilities, prediction, and z\n",
        "        x = form_input(train_xs[idx])\n",
        "        y = train_ys[idx]\n",
        "        probs = ffnn.forward(x)\n",
        "        prediction = torch.argmax(probs)\n",
        "        if y == prediction:\n",
        "            train_correct += 1\n",
        "        print(\"Example \" + repr(train_xs[idx]) + \"; gold = \" + repr(train_ys[idx]) + \"; pred = \" +\\\n",
        "              repr(prediction) + \" with probs \" + repr(probs))\n",
        "    print(repr(train_correct) + \"/\" + repr(len(train_ys)) + \" correct after training\")"
      ],
      "execution_count": null,
      "outputs": []
    }
  ]
}