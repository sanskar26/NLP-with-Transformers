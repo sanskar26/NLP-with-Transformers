{
  "nbformat": 4,
  "nbformat_minor": 0,
  "metadata": {
    "accelerator": "GPU",
    "colab": {
      "name": "Bert_Implementation.ipynb",
      "provenance": [],
      "collapsed_sections": []
    },
    "kernelspec": {
      "display_name": "Python 3",
      "name": "python3"
    },
    "language_info": {
      "name": "python"
    },
    "widgets": {
      "application/vnd.jupyter.widget-state+json": {
        "6b15463ca5a142168a77dfc82a6feeab": {
          "model_module": "@jupyter-widgets/controls",
          "model_name": "HBoxModel",
          "state": {
            "_view_name": "HBoxView",
            "_dom_classes": [],
            "_model_name": "HBoxModel",
            "_view_module": "@jupyter-widgets/controls",
            "_model_module_version": "1.5.0",
            "_view_count": null,
            "_view_module_version": "1.5.0",
            "box_style": "",
            "layout": "IPY_MODEL_462fec13d114488ca001f363a176679f",
            "_model_module": "@jupyter-widgets/controls",
            "children": [
              "IPY_MODEL_6a22107f24c3439c9fede8a8846b2203",
              "IPY_MODEL_e7faf22fdca24169afc1cd97c4a502cd"
            ]
          }
        },
        "462fec13d114488ca001f363a176679f": {
          "model_module": "@jupyter-widgets/base",
          "model_name": "LayoutModel",
          "state": {
            "_view_name": "LayoutView",
            "grid_template_rows": null,
            "right": null,
            "justify_content": null,
            "_view_module": "@jupyter-widgets/base",
            "overflow": null,
            "_model_module_version": "1.2.0",
            "_view_count": null,
            "flex_flow": null,
            "width": null,
            "min_width": null,
            "border": null,
            "align_items": null,
            "bottom": null,
            "_model_module": "@jupyter-widgets/base",
            "top": null,
            "grid_column": null,
            "overflow_y": null,
            "overflow_x": null,
            "grid_auto_flow": null,
            "grid_area": null,
            "grid_template_columns": null,
            "flex": null,
            "_model_name": "LayoutModel",
            "justify_items": null,
            "grid_row": null,
            "max_height": null,
            "align_content": null,
            "visibility": null,
            "align_self": null,
            "height": null,
            "min_height": null,
            "padding": null,
            "grid_auto_rows": null,
            "grid_gap": null,
            "max_width": null,
            "order": null,
            "_view_module_version": "1.2.0",
            "grid_template_areas": null,
            "object_position": null,
            "object_fit": null,
            "grid_auto_columns": null,
            "margin": null,
            "display": null,
            "left": null
          }
        },
        "6a22107f24c3439c9fede8a8846b2203": {
          "model_module": "@jupyter-widgets/controls",
          "model_name": "FloatProgressModel",
          "state": {
            "_view_name": "ProgressView",
            "style": "IPY_MODEL_5257ee142d3a48f9a2a78e3b1ab0a5e4",
            "_dom_classes": [],
            "description": "Downloading: 100%",
            "_model_name": "FloatProgressModel",
            "bar_style": "success",
            "max": 231508,
            "_view_module": "@jupyter-widgets/controls",
            "_model_module_version": "1.5.0",
            "value": 231508,
            "_view_count": null,
            "_view_module_version": "1.5.0",
            "orientation": "horizontal",
            "min": 0,
            "description_tooltip": null,
            "_model_module": "@jupyter-widgets/controls",
            "layout": "IPY_MODEL_330a51dbd78b4367b5f3c91cfa86304d"
          }
        },
        "e7faf22fdca24169afc1cd97c4a502cd": {
          "model_module": "@jupyter-widgets/controls",
          "model_name": "HTMLModel",
          "state": {
            "_view_name": "HTMLView",
            "style": "IPY_MODEL_9c95c500a38240eea0d31555b48ab8d4",
            "_dom_classes": [],
            "description": "",
            "_model_name": "HTMLModel",
            "placeholder": "​",
            "_view_module": "@jupyter-widgets/controls",
            "_model_module_version": "1.5.0",
            "value": " 232k/232k [00:00&lt;00:00, 1.47MB/s]",
            "_view_count": null,
            "_view_module_version": "1.5.0",
            "description_tooltip": null,
            "_model_module": "@jupyter-widgets/controls",
            "layout": "IPY_MODEL_4f36969102d64cb4b014913cb9794a51"
          }
        },
        "5257ee142d3a48f9a2a78e3b1ab0a5e4": {
          "model_module": "@jupyter-widgets/controls",
          "model_name": "ProgressStyleModel",
          "state": {
            "_view_name": "StyleView",
            "_model_name": "ProgressStyleModel",
            "description_width": "initial",
            "_view_module": "@jupyter-widgets/base",
            "_model_module_version": "1.5.0",
            "_view_count": null,
            "_view_module_version": "1.2.0",
            "bar_color": null,
            "_model_module": "@jupyter-widgets/controls"
          }
        },
        "330a51dbd78b4367b5f3c91cfa86304d": {
          "model_module": "@jupyter-widgets/base",
          "model_name": "LayoutModel",
          "state": {
            "_view_name": "LayoutView",
            "grid_template_rows": null,
            "right": null,
            "justify_content": null,
            "_view_module": "@jupyter-widgets/base",
            "overflow": null,
            "_model_module_version": "1.2.0",
            "_view_count": null,
            "flex_flow": null,
            "width": null,
            "min_width": null,
            "border": null,
            "align_items": null,
            "bottom": null,
            "_model_module": "@jupyter-widgets/base",
            "top": null,
            "grid_column": null,
            "overflow_y": null,
            "overflow_x": null,
            "grid_auto_flow": null,
            "grid_area": null,
            "grid_template_columns": null,
            "flex": null,
            "_model_name": "LayoutModel",
            "justify_items": null,
            "grid_row": null,
            "max_height": null,
            "align_content": null,
            "visibility": null,
            "align_self": null,
            "height": null,
            "min_height": null,
            "padding": null,
            "grid_auto_rows": null,
            "grid_gap": null,
            "max_width": null,
            "order": null,
            "_view_module_version": "1.2.0",
            "grid_template_areas": null,
            "object_position": null,
            "object_fit": null,
            "grid_auto_columns": null,
            "margin": null,
            "display": null,
            "left": null
          }
        },
        "9c95c500a38240eea0d31555b48ab8d4": {
          "model_module": "@jupyter-widgets/controls",
          "model_name": "DescriptionStyleModel",
          "state": {
            "_view_name": "StyleView",
            "_model_name": "DescriptionStyleModel",
            "description_width": "",
            "_view_module": "@jupyter-widgets/base",
            "_model_module_version": "1.5.0",
            "_view_count": null,
            "_view_module_version": "1.2.0",
            "_model_module": "@jupyter-widgets/controls"
          }
        },
        "4f36969102d64cb4b014913cb9794a51": {
          "model_module": "@jupyter-widgets/base",
          "model_name": "LayoutModel",
          "state": {
            "_view_name": "LayoutView",
            "grid_template_rows": null,
            "right": null,
            "justify_content": null,
            "_view_module": "@jupyter-widgets/base",
            "overflow": null,
            "_model_module_version": "1.2.0",
            "_view_count": null,
            "flex_flow": null,
            "width": null,
            "min_width": null,
            "border": null,
            "align_items": null,
            "bottom": null,
            "_model_module": "@jupyter-widgets/base",
            "top": null,
            "grid_column": null,
            "overflow_y": null,
            "overflow_x": null,
            "grid_auto_flow": null,
            "grid_area": null,
            "grid_template_columns": null,
            "flex": null,
            "_model_name": "LayoutModel",
            "justify_items": null,
            "grid_row": null,
            "max_height": null,
            "align_content": null,
            "visibility": null,
            "align_self": null,
            "height": null,
            "min_height": null,
            "padding": null,
            "grid_auto_rows": null,
            "grid_gap": null,
            "max_width": null,
            "order": null,
            "_view_module_version": "1.2.0",
            "grid_template_areas": null,
            "object_position": null,
            "object_fit": null,
            "grid_auto_columns": null,
            "margin": null,
            "display": null,
            "left": null
          }
        },
        "40d0a78249874aa8961df7977c9e90db": {
          "model_module": "@jupyter-widgets/controls",
          "model_name": "HBoxModel",
          "state": {
            "_view_name": "HBoxView",
            "_dom_classes": [],
            "_model_name": "HBoxModel",
            "_view_module": "@jupyter-widgets/controls",
            "_model_module_version": "1.5.0",
            "_view_count": null,
            "_view_module_version": "1.5.0",
            "box_style": "",
            "layout": "IPY_MODEL_bf6294a252e440eaaf837714e187ea51",
            "_model_module": "@jupyter-widgets/controls",
            "children": [
              "IPY_MODEL_db2957dc1d4645c0a584bc9944098bcf",
              "IPY_MODEL_a2170527e09d42aab02dac05f6a15b49"
            ]
          }
        },
        "bf6294a252e440eaaf837714e187ea51": {
          "model_module": "@jupyter-widgets/base",
          "model_name": "LayoutModel",
          "state": {
            "_view_name": "LayoutView",
            "grid_template_rows": null,
            "right": null,
            "justify_content": null,
            "_view_module": "@jupyter-widgets/base",
            "overflow": null,
            "_model_module_version": "1.2.0",
            "_view_count": null,
            "flex_flow": null,
            "width": null,
            "min_width": null,
            "border": null,
            "align_items": null,
            "bottom": null,
            "_model_module": "@jupyter-widgets/base",
            "top": null,
            "grid_column": null,
            "overflow_y": null,
            "overflow_x": null,
            "grid_auto_flow": null,
            "grid_area": null,
            "grid_template_columns": null,
            "flex": null,
            "_model_name": "LayoutModel",
            "justify_items": null,
            "grid_row": null,
            "max_height": null,
            "align_content": null,
            "visibility": null,
            "align_self": null,
            "height": null,
            "min_height": null,
            "padding": null,
            "grid_auto_rows": null,
            "grid_gap": null,
            "max_width": null,
            "order": null,
            "_view_module_version": "1.2.0",
            "grid_template_areas": null,
            "object_position": null,
            "object_fit": null,
            "grid_auto_columns": null,
            "margin": null,
            "display": null,
            "left": null
          }
        },
        "db2957dc1d4645c0a584bc9944098bcf": {
          "model_module": "@jupyter-widgets/controls",
          "model_name": "FloatProgressModel",
          "state": {
            "_view_name": "ProgressView",
            "style": "IPY_MODEL_07065531e6df40099cec4d08104d0399",
            "_dom_classes": [],
            "description": "Downloading: 100%",
            "_model_name": "FloatProgressModel",
            "bar_style": "success",
            "max": 28,
            "_view_module": "@jupyter-widgets/controls",
            "_model_module_version": "1.5.0",
            "value": 28,
            "_view_count": null,
            "_view_module_version": "1.5.0",
            "orientation": "horizontal",
            "min": 0,
            "description_tooltip": null,
            "_model_module": "@jupyter-widgets/controls",
            "layout": "IPY_MODEL_d8d39050a886435e8ef4f4fc428586a9"
          }
        },
        "a2170527e09d42aab02dac05f6a15b49": {
          "model_module": "@jupyter-widgets/controls",
          "model_name": "HTMLModel",
          "state": {
            "_view_name": "HTMLView",
            "style": "IPY_MODEL_8b828e52b845465d9efc1d0ef6606038",
            "_dom_classes": [],
            "description": "",
            "_model_name": "HTMLModel",
            "placeholder": "​",
            "_view_module": "@jupyter-widgets/controls",
            "_model_module_version": "1.5.0",
            "value": " 28.0/28.0 [00:00&lt;00:00, 155B/s]",
            "_view_count": null,
            "_view_module_version": "1.5.0",
            "description_tooltip": null,
            "_model_module": "@jupyter-widgets/controls",
            "layout": "IPY_MODEL_8f276edaa2da4a739dc2901a8743915e"
          }
        },
        "07065531e6df40099cec4d08104d0399": {
          "model_module": "@jupyter-widgets/controls",
          "model_name": "ProgressStyleModel",
          "state": {
            "_view_name": "StyleView",
            "_model_name": "ProgressStyleModel",
            "description_width": "initial",
            "_view_module": "@jupyter-widgets/base",
            "_model_module_version": "1.5.0",
            "_view_count": null,
            "_view_module_version": "1.2.0",
            "bar_color": null,
            "_model_module": "@jupyter-widgets/controls"
          }
        },
        "d8d39050a886435e8ef4f4fc428586a9": {
          "model_module": "@jupyter-widgets/base",
          "model_name": "LayoutModel",
          "state": {
            "_view_name": "LayoutView",
            "grid_template_rows": null,
            "right": null,
            "justify_content": null,
            "_view_module": "@jupyter-widgets/base",
            "overflow": null,
            "_model_module_version": "1.2.0",
            "_view_count": null,
            "flex_flow": null,
            "width": null,
            "min_width": null,
            "border": null,
            "align_items": null,
            "bottom": null,
            "_model_module": "@jupyter-widgets/base",
            "top": null,
            "grid_column": null,
            "overflow_y": null,
            "overflow_x": null,
            "grid_auto_flow": null,
            "grid_area": null,
            "grid_template_columns": null,
            "flex": null,
            "_model_name": "LayoutModel",
            "justify_items": null,
            "grid_row": null,
            "max_height": null,
            "align_content": null,
            "visibility": null,
            "align_self": null,
            "height": null,
            "min_height": null,
            "padding": null,
            "grid_auto_rows": null,
            "grid_gap": null,
            "max_width": null,
            "order": null,
            "_view_module_version": "1.2.0",
            "grid_template_areas": null,
            "object_position": null,
            "object_fit": null,
            "grid_auto_columns": null,
            "margin": null,
            "display": null,
            "left": null
          }
        },
        "8b828e52b845465d9efc1d0ef6606038": {
          "model_module": "@jupyter-widgets/controls",
          "model_name": "DescriptionStyleModel",
          "state": {
            "_view_name": "StyleView",
            "_model_name": "DescriptionStyleModel",
            "description_width": "",
            "_view_module": "@jupyter-widgets/base",
            "_model_module_version": "1.5.0",
            "_view_count": null,
            "_view_module_version": "1.2.0",
            "_model_module": "@jupyter-widgets/controls"
          }
        },
        "8f276edaa2da4a739dc2901a8743915e": {
          "model_module": "@jupyter-widgets/base",
          "model_name": "LayoutModel",
          "state": {
            "_view_name": "LayoutView",
            "grid_template_rows": null,
            "right": null,
            "justify_content": null,
            "_view_module": "@jupyter-widgets/base",
            "overflow": null,
            "_model_module_version": "1.2.0",
            "_view_count": null,
            "flex_flow": null,
            "width": null,
            "min_width": null,
            "border": null,
            "align_items": null,
            "bottom": null,
            "_model_module": "@jupyter-widgets/base",
            "top": null,
            "grid_column": null,
            "overflow_y": null,
            "overflow_x": null,
            "grid_auto_flow": null,
            "grid_area": null,
            "grid_template_columns": null,
            "flex": null,
            "_model_name": "LayoutModel",
            "justify_items": null,
            "grid_row": null,
            "max_height": null,
            "align_content": null,
            "visibility": null,
            "align_self": null,
            "height": null,
            "min_height": null,
            "padding": null,
            "grid_auto_rows": null,
            "grid_gap": null,
            "max_width": null,
            "order": null,
            "_view_module_version": "1.2.0",
            "grid_template_areas": null,
            "object_position": null,
            "object_fit": null,
            "grid_auto_columns": null,
            "margin": null,
            "display": null,
            "left": null
          }
        },
        "418581490193454688dd9f9f9b3b5b9f": {
          "model_module": "@jupyter-widgets/controls",
          "model_name": "HBoxModel",
          "state": {
            "_view_name": "HBoxView",
            "_dom_classes": [],
            "_model_name": "HBoxModel",
            "_view_module": "@jupyter-widgets/controls",
            "_model_module_version": "1.5.0",
            "_view_count": null,
            "_view_module_version": "1.5.0",
            "box_style": "",
            "layout": "IPY_MODEL_53989c12727b435a82a209e921dba89b",
            "_model_module": "@jupyter-widgets/controls",
            "children": [
              "IPY_MODEL_0162f0a457724d9e80c0f7d567c87cef",
              "IPY_MODEL_10b978441b164636bda219722f67d450"
            ]
          }
        },
        "53989c12727b435a82a209e921dba89b": {
          "model_module": "@jupyter-widgets/base",
          "model_name": "LayoutModel",
          "state": {
            "_view_name": "LayoutView",
            "grid_template_rows": null,
            "right": null,
            "justify_content": null,
            "_view_module": "@jupyter-widgets/base",
            "overflow": null,
            "_model_module_version": "1.2.0",
            "_view_count": null,
            "flex_flow": null,
            "width": null,
            "min_width": null,
            "border": null,
            "align_items": null,
            "bottom": null,
            "_model_module": "@jupyter-widgets/base",
            "top": null,
            "grid_column": null,
            "overflow_y": null,
            "overflow_x": null,
            "grid_auto_flow": null,
            "grid_area": null,
            "grid_template_columns": null,
            "flex": null,
            "_model_name": "LayoutModel",
            "justify_items": null,
            "grid_row": null,
            "max_height": null,
            "align_content": null,
            "visibility": null,
            "align_self": null,
            "height": null,
            "min_height": null,
            "padding": null,
            "grid_auto_rows": null,
            "grid_gap": null,
            "max_width": null,
            "order": null,
            "_view_module_version": "1.2.0",
            "grid_template_areas": null,
            "object_position": null,
            "object_fit": null,
            "grid_auto_columns": null,
            "margin": null,
            "display": null,
            "left": null
          }
        },
        "0162f0a457724d9e80c0f7d567c87cef": {
          "model_module": "@jupyter-widgets/controls",
          "model_name": "FloatProgressModel",
          "state": {
            "_view_name": "ProgressView",
            "style": "IPY_MODEL_e09e4a80748243f28658b37554ed8bc2",
            "_dom_classes": [],
            "description": "Downloading: 100%",
            "_model_name": "FloatProgressModel",
            "bar_style": "success",
            "max": 466062,
            "_view_module": "@jupyter-widgets/controls",
            "_model_module_version": "1.5.0",
            "value": 466062,
            "_view_count": null,
            "_view_module_version": "1.5.0",
            "orientation": "horizontal",
            "min": 0,
            "description_tooltip": null,
            "_model_module": "@jupyter-widgets/controls",
            "layout": "IPY_MODEL_2bbe94ce003c4505a93eeb59f87de6f8"
          }
        },
        "10b978441b164636bda219722f67d450": {
          "model_module": "@jupyter-widgets/controls",
          "model_name": "HTMLModel",
          "state": {
            "_view_name": "HTMLView",
            "style": "IPY_MODEL_6dad2deaf0a448968386bc6e6ce7b1c8",
            "_dom_classes": [],
            "description": "",
            "_model_name": "HTMLModel",
            "placeholder": "​",
            "_view_module": "@jupyter-widgets/controls",
            "_model_module_version": "1.5.0",
            "value": " 466k/466k [00:00&lt;00:00, 6.02MB/s]",
            "_view_count": null,
            "_view_module_version": "1.5.0",
            "description_tooltip": null,
            "_model_module": "@jupyter-widgets/controls",
            "layout": "IPY_MODEL_8bd8c9276f1e4d84ac53ceec75d49594"
          }
        },
        "e09e4a80748243f28658b37554ed8bc2": {
          "model_module": "@jupyter-widgets/controls",
          "model_name": "ProgressStyleModel",
          "state": {
            "_view_name": "StyleView",
            "_model_name": "ProgressStyleModel",
            "description_width": "initial",
            "_view_module": "@jupyter-widgets/base",
            "_model_module_version": "1.5.0",
            "_view_count": null,
            "_view_module_version": "1.2.0",
            "bar_color": null,
            "_model_module": "@jupyter-widgets/controls"
          }
        },
        "2bbe94ce003c4505a93eeb59f87de6f8": {
          "model_module": "@jupyter-widgets/base",
          "model_name": "LayoutModel",
          "state": {
            "_view_name": "LayoutView",
            "grid_template_rows": null,
            "right": null,
            "justify_content": null,
            "_view_module": "@jupyter-widgets/base",
            "overflow": null,
            "_model_module_version": "1.2.0",
            "_view_count": null,
            "flex_flow": null,
            "width": null,
            "min_width": null,
            "border": null,
            "align_items": null,
            "bottom": null,
            "_model_module": "@jupyter-widgets/base",
            "top": null,
            "grid_column": null,
            "overflow_y": null,
            "overflow_x": null,
            "grid_auto_flow": null,
            "grid_area": null,
            "grid_template_columns": null,
            "flex": null,
            "_model_name": "LayoutModel",
            "justify_items": null,
            "grid_row": null,
            "max_height": null,
            "align_content": null,
            "visibility": null,
            "align_self": null,
            "height": null,
            "min_height": null,
            "padding": null,
            "grid_auto_rows": null,
            "grid_gap": null,
            "max_width": null,
            "order": null,
            "_view_module_version": "1.2.0",
            "grid_template_areas": null,
            "object_position": null,
            "object_fit": null,
            "grid_auto_columns": null,
            "margin": null,
            "display": null,
            "left": null
          }
        },
        "6dad2deaf0a448968386bc6e6ce7b1c8": {
          "model_module": "@jupyter-widgets/controls",
          "model_name": "DescriptionStyleModel",
          "state": {
            "_view_name": "StyleView",
            "_model_name": "DescriptionStyleModel",
            "description_width": "",
            "_view_module": "@jupyter-widgets/base",
            "_model_module_version": "1.5.0",
            "_view_count": null,
            "_view_module_version": "1.2.0",
            "_model_module": "@jupyter-widgets/controls"
          }
        },
        "8bd8c9276f1e4d84ac53ceec75d49594": {
          "model_module": "@jupyter-widgets/base",
          "model_name": "LayoutModel",
          "state": {
            "_view_name": "LayoutView",
            "grid_template_rows": null,
            "right": null,
            "justify_content": null,
            "_view_module": "@jupyter-widgets/base",
            "overflow": null,
            "_model_module_version": "1.2.0",
            "_view_count": null,
            "flex_flow": null,
            "width": null,
            "min_width": null,
            "border": null,
            "align_items": null,
            "bottom": null,
            "_model_module": "@jupyter-widgets/base",
            "top": null,
            "grid_column": null,
            "overflow_y": null,
            "overflow_x": null,
            "grid_auto_flow": null,
            "grid_area": null,
            "grid_template_columns": null,
            "flex": null,
            "_model_name": "LayoutModel",
            "justify_items": null,
            "grid_row": null,
            "max_height": null,
            "align_content": null,
            "visibility": null,
            "align_self": null,
            "height": null,
            "min_height": null,
            "padding": null,
            "grid_auto_rows": null,
            "grid_gap": null,
            "max_width": null,
            "order": null,
            "_view_module_version": "1.2.0",
            "grid_template_areas": null,
            "object_position": null,
            "object_fit": null,
            "grid_auto_columns": null,
            "margin": null,
            "display": null,
            "left": null
          }
        },
        "0a27f0e8760d4ece83d159a1d683e0a6": {
          "model_module": "@jupyter-widgets/controls",
          "model_name": "HBoxModel",
          "state": {
            "_view_name": "HBoxView",
            "_dom_classes": [],
            "_model_name": "HBoxModel",
            "_view_module": "@jupyter-widgets/controls",
            "_model_module_version": "1.5.0",
            "_view_count": null,
            "_view_module_version": "1.5.0",
            "box_style": "",
            "layout": "IPY_MODEL_17ff1b80874f4a4499440fa5b644bbd5",
            "_model_module": "@jupyter-widgets/controls",
            "children": [
              "IPY_MODEL_618bf6c3d2f6498a95d4053397970a30",
              "IPY_MODEL_4735321a8bf54b908bc698a07c988656"
            ]
          }
        },
        "17ff1b80874f4a4499440fa5b644bbd5": {
          "model_module": "@jupyter-widgets/base",
          "model_name": "LayoutModel",
          "state": {
            "_view_name": "LayoutView",
            "grid_template_rows": null,
            "right": null,
            "justify_content": null,
            "_view_module": "@jupyter-widgets/base",
            "overflow": null,
            "_model_module_version": "1.2.0",
            "_view_count": null,
            "flex_flow": null,
            "width": null,
            "min_width": null,
            "border": null,
            "align_items": null,
            "bottom": null,
            "_model_module": "@jupyter-widgets/base",
            "top": null,
            "grid_column": null,
            "overflow_y": null,
            "overflow_x": null,
            "grid_auto_flow": null,
            "grid_area": null,
            "grid_template_columns": null,
            "flex": null,
            "_model_name": "LayoutModel",
            "justify_items": null,
            "grid_row": null,
            "max_height": null,
            "align_content": null,
            "visibility": null,
            "align_self": null,
            "height": null,
            "min_height": null,
            "padding": null,
            "grid_auto_rows": null,
            "grid_gap": null,
            "max_width": null,
            "order": null,
            "_view_module_version": "1.2.0",
            "grid_template_areas": null,
            "object_position": null,
            "object_fit": null,
            "grid_auto_columns": null,
            "margin": null,
            "display": null,
            "left": null
          }
        },
        "618bf6c3d2f6498a95d4053397970a30": {
          "model_module": "@jupyter-widgets/controls",
          "model_name": "FloatProgressModel",
          "state": {
            "_view_name": "ProgressView",
            "style": "IPY_MODEL_b906de637c644ab48b87f8f06ebb5591",
            "_dom_classes": [],
            "description": "Downloading: 100%",
            "_model_name": "FloatProgressModel",
            "bar_style": "success",
            "max": 570,
            "_view_module": "@jupyter-widgets/controls",
            "_model_module_version": "1.5.0",
            "value": 570,
            "_view_count": null,
            "_view_module_version": "1.5.0",
            "orientation": "horizontal",
            "min": 0,
            "description_tooltip": null,
            "_model_module": "@jupyter-widgets/controls",
            "layout": "IPY_MODEL_3a95cbcca88e4b7992396c3bff1ab9ce"
          }
        },
        "4735321a8bf54b908bc698a07c988656": {
          "model_module": "@jupyter-widgets/controls",
          "model_name": "HTMLModel",
          "state": {
            "_view_name": "HTMLView",
            "style": "IPY_MODEL_c7ea06149d464521bd210d98ebc2b82d",
            "_dom_classes": [],
            "description": "",
            "_model_name": "HTMLModel",
            "placeholder": "​",
            "_view_module": "@jupyter-widgets/controls",
            "_model_module_version": "1.5.0",
            "value": " 570/570 [00:00&lt;00:00, 7.10kB/s]",
            "_view_count": null,
            "_view_module_version": "1.5.0",
            "description_tooltip": null,
            "_model_module": "@jupyter-widgets/controls",
            "layout": "IPY_MODEL_820d2ca8dc0c41d59b723b78d122de02"
          }
        },
        "b906de637c644ab48b87f8f06ebb5591": {
          "model_module": "@jupyter-widgets/controls",
          "model_name": "ProgressStyleModel",
          "state": {
            "_view_name": "StyleView",
            "_model_name": "ProgressStyleModel",
            "description_width": "initial",
            "_view_module": "@jupyter-widgets/base",
            "_model_module_version": "1.5.0",
            "_view_count": null,
            "_view_module_version": "1.2.0",
            "bar_color": null,
            "_model_module": "@jupyter-widgets/controls"
          }
        },
        "3a95cbcca88e4b7992396c3bff1ab9ce": {
          "model_module": "@jupyter-widgets/base",
          "model_name": "LayoutModel",
          "state": {
            "_view_name": "LayoutView",
            "grid_template_rows": null,
            "right": null,
            "justify_content": null,
            "_view_module": "@jupyter-widgets/base",
            "overflow": null,
            "_model_module_version": "1.2.0",
            "_view_count": null,
            "flex_flow": null,
            "width": null,
            "min_width": null,
            "border": null,
            "align_items": null,
            "bottom": null,
            "_model_module": "@jupyter-widgets/base",
            "top": null,
            "grid_column": null,
            "overflow_y": null,
            "overflow_x": null,
            "grid_auto_flow": null,
            "grid_area": null,
            "grid_template_columns": null,
            "flex": null,
            "_model_name": "LayoutModel",
            "justify_items": null,
            "grid_row": null,
            "max_height": null,
            "align_content": null,
            "visibility": null,
            "align_self": null,
            "height": null,
            "min_height": null,
            "padding": null,
            "grid_auto_rows": null,
            "grid_gap": null,
            "max_width": null,
            "order": null,
            "_view_module_version": "1.2.0",
            "grid_template_areas": null,
            "object_position": null,
            "object_fit": null,
            "grid_auto_columns": null,
            "margin": null,
            "display": null,
            "left": null
          }
        },
        "c7ea06149d464521bd210d98ebc2b82d": {
          "model_module": "@jupyter-widgets/controls",
          "model_name": "DescriptionStyleModel",
          "state": {
            "_view_name": "StyleView",
            "_model_name": "DescriptionStyleModel",
            "description_width": "",
            "_view_module": "@jupyter-widgets/base",
            "_model_module_version": "1.5.0",
            "_view_count": null,
            "_view_module_version": "1.2.0",
            "_model_module": "@jupyter-widgets/controls"
          }
        },
        "820d2ca8dc0c41d59b723b78d122de02": {
          "model_module": "@jupyter-widgets/base",
          "model_name": "LayoutModel",
          "state": {
            "_view_name": "LayoutView",
            "grid_template_rows": null,
            "right": null,
            "justify_content": null,
            "_view_module": "@jupyter-widgets/base",
            "overflow": null,
            "_model_module_version": "1.2.0",
            "_view_count": null,
            "flex_flow": null,
            "width": null,
            "min_width": null,
            "border": null,
            "align_items": null,
            "bottom": null,
            "_model_module": "@jupyter-widgets/base",
            "top": null,
            "grid_column": null,
            "overflow_y": null,
            "overflow_x": null,
            "grid_auto_flow": null,
            "grid_area": null,
            "grid_template_columns": null,
            "flex": null,
            "_model_name": "LayoutModel",
            "justify_items": null,
            "grid_row": null,
            "max_height": null,
            "align_content": null,
            "visibility": null,
            "align_self": null,
            "height": null,
            "min_height": null,
            "padding": null,
            "grid_auto_rows": null,
            "grid_gap": null,
            "max_width": null,
            "order": null,
            "_view_module_version": "1.2.0",
            "grid_template_areas": null,
            "object_position": null,
            "object_fit": null,
            "grid_auto_columns": null,
            "margin": null,
            "display": null,
            "left": null
          }
        },
        "071134bcc802476d9c274f754ccbc049": {
          "model_module": "@jupyter-widgets/controls",
          "model_name": "HBoxModel",
          "state": {
            "_view_name": "HBoxView",
            "_dom_classes": [],
            "_model_name": "HBoxModel",
            "_view_module": "@jupyter-widgets/controls",
            "_model_module_version": "1.5.0",
            "_view_count": null,
            "_view_module_version": "1.5.0",
            "box_style": "",
            "layout": "IPY_MODEL_f3c7e280e46e4c459574a78ff18b0a6d",
            "_model_module": "@jupyter-widgets/controls",
            "children": [
              "IPY_MODEL_ac8250fb1dfe4a45b7acf2c87911184c",
              "IPY_MODEL_091997dd42934315b59eacbd932ebf7e"
            ]
          }
        },
        "f3c7e280e46e4c459574a78ff18b0a6d": {
          "model_module": "@jupyter-widgets/base",
          "model_name": "LayoutModel",
          "state": {
            "_view_name": "LayoutView",
            "grid_template_rows": null,
            "right": null,
            "justify_content": null,
            "_view_module": "@jupyter-widgets/base",
            "overflow": null,
            "_model_module_version": "1.2.0",
            "_view_count": null,
            "flex_flow": null,
            "width": null,
            "min_width": null,
            "border": null,
            "align_items": null,
            "bottom": null,
            "_model_module": "@jupyter-widgets/base",
            "top": null,
            "grid_column": null,
            "overflow_y": null,
            "overflow_x": null,
            "grid_auto_flow": null,
            "grid_area": null,
            "grid_template_columns": null,
            "flex": null,
            "_model_name": "LayoutModel",
            "justify_items": null,
            "grid_row": null,
            "max_height": null,
            "align_content": null,
            "visibility": null,
            "align_self": null,
            "height": null,
            "min_height": null,
            "padding": null,
            "grid_auto_rows": null,
            "grid_gap": null,
            "max_width": null,
            "order": null,
            "_view_module_version": "1.2.0",
            "grid_template_areas": null,
            "object_position": null,
            "object_fit": null,
            "grid_auto_columns": null,
            "margin": null,
            "display": null,
            "left": null
          }
        },
        "ac8250fb1dfe4a45b7acf2c87911184c": {
          "model_module": "@jupyter-widgets/controls",
          "model_name": "FloatProgressModel",
          "state": {
            "_view_name": "ProgressView",
            "style": "IPY_MODEL_fb00ba3e000c4fc7ab2f5ff1cac8f56c",
            "_dom_classes": [],
            "description": "Downloading: 100%",
            "_model_name": "FloatProgressModel",
            "bar_style": "success",
            "max": 440473133,
            "_view_module": "@jupyter-widgets/controls",
            "_model_module_version": "1.5.0",
            "value": 440473133,
            "_view_count": null,
            "_view_module_version": "1.5.0",
            "orientation": "horizontal",
            "min": 0,
            "description_tooltip": null,
            "_model_module": "@jupyter-widgets/controls",
            "layout": "IPY_MODEL_8f83f373b66f40aca71512b5300f742d"
          }
        },
        "091997dd42934315b59eacbd932ebf7e": {
          "model_module": "@jupyter-widgets/controls",
          "model_name": "HTMLModel",
          "state": {
            "_view_name": "HTMLView",
            "style": "IPY_MODEL_4237d93f1541413195b2b6ad18488067",
            "_dom_classes": [],
            "description": "",
            "_model_name": "HTMLModel",
            "placeholder": "​",
            "_view_module": "@jupyter-widgets/controls",
            "_model_module_version": "1.5.0",
            "value": " 440M/440M [00:08&lt;00:00, 50.4MB/s]",
            "_view_count": null,
            "_view_module_version": "1.5.0",
            "description_tooltip": null,
            "_model_module": "@jupyter-widgets/controls",
            "layout": "IPY_MODEL_d1ee7049b01440069d29362644a2b56d"
          }
        },
        "fb00ba3e000c4fc7ab2f5ff1cac8f56c": {
          "model_module": "@jupyter-widgets/controls",
          "model_name": "ProgressStyleModel",
          "state": {
            "_view_name": "StyleView",
            "_model_name": "ProgressStyleModel",
            "description_width": "initial",
            "_view_module": "@jupyter-widgets/base",
            "_model_module_version": "1.5.0",
            "_view_count": null,
            "_view_module_version": "1.2.0",
            "bar_color": null,
            "_model_module": "@jupyter-widgets/controls"
          }
        },
        "8f83f373b66f40aca71512b5300f742d": {
          "model_module": "@jupyter-widgets/base",
          "model_name": "LayoutModel",
          "state": {
            "_view_name": "LayoutView",
            "grid_template_rows": null,
            "right": null,
            "justify_content": null,
            "_view_module": "@jupyter-widgets/base",
            "overflow": null,
            "_model_module_version": "1.2.0",
            "_view_count": null,
            "flex_flow": null,
            "width": null,
            "min_width": null,
            "border": null,
            "align_items": null,
            "bottom": null,
            "_model_module": "@jupyter-widgets/base",
            "top": null,
            "grid_column": null,
            "overflow_y": null,
            "overflow_x": null,
            "grid_auto_flow": null,
            "grid_area": null,
            "grid_template_columns": null,
            "flex": null,
            "_model_name": "LayoutModel",
            "justify_items": null,
            "grid_row": null,
            "max_height": null,
            "align_content": null,
            "visibility": null,
            "align_self": null,
            "height": null,
            "min_height": null,
            "padding": null,
            "grid_auto_rows": null,
            "grid_gap": null,
            "max_width": null,
            "order": null,
            "_view_module_version": "1.2.0",
            "grid_template_areas": null,
            "object_position": null,
            "object_fit": null,
            "grid_auto_columns": null,
            "margin": null,
            "display": null,
            "left": null
          }
        },
        "4237d93f1541413195b2b6ad18488067": {
          "model_module": "@jupyter-widgets/controls",
          "model_name": "DescriptionStyleModel",
          "state": {
            "_view_name": "StyleView",
            "_model_name": "DescriptionStyleModel",
            "description_width": "",
            "_view_module": "@jupyter-widgets/base",
            "_model_module_version": "1.5.0",
            "_view_count": null,
            "_view_module_version": "1.2.0",
            "_model_module": "@jupyter-widgets/controls"
          }
        },
        "d1ee7049b01440069d29362644a2b56d": {
          "model_module": "@jupyter-widgets/base",
          "model_name": "LayoutModel",
          "state": {
            "_view_name": "LayoutView",
            "grid_template_rows": null,
            "right": null,
            "justify_content": null,
            "_view_module": "@jupyter-widgets/base",
            "overflow": null,
            "_model_module_version": "1.2.0",
            "_view_count": null,
            "flex_flow": null,
            "width": null,
            "min_width": null,
            "border": null,
            "align_items": null,
            "bottom": null,
            "_model_module": "@jupyter-widgets/base",
            "top": null,
            "grid_column": null,
            "overflow_y": null,
            "overflow_x": null,
            "grid_auto_flow": null,
            "grid_area": null,
            "grid_template_columns": null,
            "flex": null,
            "_model_name": "LayoutModel",
            "justify_items": null,
            "grid_row": null,
            "max_height": null,
            "align_content": null,
            "visibility": null,
            "align_self": null,
            "height": null,
            "min_height": null,
            "padding": null,
            "grid_auto_rows": null,
            "grid_gap": null,
            "max_width": null,
            "order": null,
            "_view_module_version": "1.2.0",
            "grid_template_areas": null,
            "object_position": null,
            "object_fit": null,
            "grid_auto_columns": null,
            "margin": null,
            "display": null,
            "left": null
          }
        }
      }
    }
  },
  "cells": [
    {
      "cell_type": "code",
      "metadata": {
        "colab": {
          "base_uri": "https://localhost:8080/",
          "height": 34
        },
        "id": "iai_E9XqDd-F",
        "outputId": "a631205e-09e5-4140-d82f-4a5cd4a6afe4"
      },
      "source": [
        "#@title\n",
        "%%html\n",
        "<div style=\"background-color: pink;\">\n",
        "  Implementation of Sentiment Analysis Task using Transformers(Bert-Architecture)\n",
        "</div>"
      ],
      "execution_count": null,
      "outputs": [
        {
          "output_type": "display_data",
          "data": {
            "text/html": [
              "<div style=\"background-color: pink;\">\n",
              "  Implementation of Sentiment Analysis Task using Transformers(Bert-Architecture)\n",
              "</div>"
            ],
            "text/plain": [
              "<IPython.core.display.HTML object>"
            ]
          },
          "metadata": {
            "tags": []
          }
        }
      ]
    },
    {
      "cell_type": "code",
      "metadata": {
        "colab": {
          "base_uri": "https://localhost:8080/"
        },
        "id": "ePKfwn2Vb_Lt",
        "outputId": "564723e6-ef50-4d5f-8b6f-97c13ac8d6cd"
      },
      "source": [
        "from google.colab import drive\n",
        "drive.mount('/content/drive')"
      ],
      "execution_count": 13,
      "outputs": [
        {
          "output_type": "stream",
          "text": [
            "Drive already mounted at /content/drive; to attempt to forcibly remount, call drive.mount(\"/content/drive\", force_remount=True).\n"
          ],
          "name": "stdout"
        }
      ]
    },
    {
      "cell_type": "markdown",
      "metadata": {
        "id": "ajfZi8dT0mbb"
      },
      "source": [
        "Introduction to BERT and the problem at hand\n",
        "\n",
        "Exploratory Data Analysis and Preprocessing \n",
        "\n",
        "Training/Validation Split\n",
        "\n",
        "Loading Tokenizer and Encoding our Data\n",
        "\n",
        "Setting up BERT Pretrained Model\n",
        "\n",
        "Creating Data Loaders\n",
        "\n",
        "Setting Up Optimizer and Scheduler\n",
        "\n",
        "Defining our Performance Metrics\n",
        "\n",
        "Creating our Training Loop\n",
        "\n",
        "Loading and Evaluating our Model"
      ]
    },
    {
      "cell_type": "code",
      "metadata": {
        "colab": {
          "base_uri": "https://localhost:8080/"
        },
        "id": "LEHBmRGnhAtO",
        "outputId": "45be6a33-2e40-4a72-f767-6a5c9d688f63"
      },
      "source": [
        "import torch\n",
        "\n",
        "if torch.cuda.is_available():\n",
        "  device= torch.device(\"cuda\")\n",
        "  print(\"There is %d gpu device available\"%torch.cuda.device_count() if torch.cuda.device_count()==1 else \"There are %d gpu devices available\"%torch.cuda.device_count())\n",
        "  print(f\"Using Gpu :{torch.cuda.get_device_name(0)}\")\n",
        "\n",
        "else:\n",
        "  print(\"Gpu device Not Found, Using Cpu Instead\")"
      ],
      "execution_count": 1,
      "outputs": [
        {
          "output_type": "stream",
          "text": [
            "There is 1 gpu device available\n",
            "Using Gpu :Tesla T4\n"
          ],
          "name": "stdout"
        }
      ]
    },
    {
      "cell_type": "code",
      "metadata": {
        "colab": {
          "base_uri": "https://localhost:8080/"
        },
        "id": "FfiPBtTd00RA",
        "outputId": "db8acebc-f6fe-47a4-cfdd-c1f3533921a0"
      },
      "source": [
        "!pip install transformers"
      ],
      "execution_count": 2,
      "outputs": [
        {
          "output_type": "stream",
          "text": [
            "Collecting transformers\n",
            "\u001b[?25l  Downloading https://files.pythonhosted.org/packages/b5/d5/c6c23ad75491467a9a84e526ef2364e523d45e2b0fae28a7cbe8689e7e84/transformers-4.8.1-py3-none-any.whl (2.5MB)\n",
            "\r\u001b[K     |▏                               | 10kB 27.8MB/s eta 0:00:01\r\u001b[K     |▎                               | 20kB 33.8MB/s eta 0:00:01\r\u001b[K     |▍                               | 30kB 19.4MB/s eta 0:00:01\r\u001b[K     |▌                               | 40kB 22.1MB/s eta 0:00:01\r\u001b[K     |▋                               | 51kB 23.8MB/s eta 0:00:01\r\u001b[K     |▉                               | 61kB 24.4MB/s eta 0:00:01\r\u001b[K     |█                               | 71kB 25.9MB/s eta 0:00:01\r\u001b[K     |█                               | 81kB 26.4MB/s eta 0:00:01\r\u001b[K     |█▏                              | 92kB 27.9MB/s eta 0:00:01\r\u001b[K     |█▎                              | 102kB 29.4MB/s eta 0:00:01\r\u001b[K     |█▌                              | 112kB 29.4MB/s eta 0:00:01\r\u001b[K     |█▋                              | 122kB 29.4MB/s eta 0:00:01\r\u001b[K     |█▊                              | 133kB 29.4MB/s eta 0:00:01\r\u001b[K     |█▉                              | 143kB 29.4MB/s eta 0:00:01\r\u001b[K     |██                              | 153kB 29.4MB/s eta 0:00:01\r\u001b[K     |██                              | 163kB 29.4MB/s eta 0:00:01\r\u001b[K     |██▎                             | 174kB 29.4MB/s eta 0:00:01\r\u001b[K     |██▍                             | 184kB 29.4MB/s eta 0:00:01\r\u001b[K     |██▌                             | 194kB 29.4MB/s eta 0:00:01\r\u001b[K     |██▋                             | 204kB 29.4MB/s eta 0:00:01\r\u001b[K     |██▊                             | 215kB 29.4MB/s eta 0:00:01\r\u001b[K     |███                             | 225kB 29.4MB/s eta 0:00:01\r\u001b[K     |███                             | 235kB 29.4MB/s eta 0:00:01\r\u001b[K     |███▏                            | 245kB 29.4MB/s eta 0:00:01\r\u001b[K     |███▎                            | 256kB 29.4MB/s eta 0:00:01\r\u001b[K     |███▍                            | 266kB 29.4MB/s eta 0:00:01\r\u001b[K     |███▌                            | 276kB 29.4MB/s eta 0:00:01\r\u001b[K     |███▊                            | 286kB 29.4MB/s eta 0:00:01\r\u001b[K     |███▉                            | 296kB 29.4MB/s eta 0:00:01\r\u001b[K     |████                            | 307kB 29.4MB/s eta 0:00:01\r\u001b[K     |████                            | 317kB 29.4MB/s eta 0:00:01\r\u001b[K     |████▏                           | 327kB 29.4MB/s eta 0:00:01\r\u001b[K     |████▍                           | 337kB 29.4MB/s eta 0:00:01\r\u001b[K     |████▌                           | 348kB 29.4MB/s eta 0:00:01\r\u001b[K     |████▋                           | 358kB 29.4MB/s eta 0:00:01\r\u001b[K     |████▊                           | 368kB 29.4MB/s eta 0:00:01\r\u001b[K     |████▉                           | 378kB 29.4MB/s eta 0:00:01\r\u001b[K     |█████                           | 389kB 29.4MB/s eta 0:00:01\r\u001b[K     |█████▏                          | 399kB 29.4MB/s eta 0:00:01\r\u001b[K     |█████▎                          | 409kB 29.4MB/s eta 0:00:01\r\u001b[K     |█████▍                          | 419kB 29.4MB/s eta 0:00:01\r\u001b[K     |█████▌                          | 430kB 29.4MB/s eta 0:00:01\r\u001b[K     |█████▋                          | 440kB 29.4MB/s eta 0:00:01\r\u001b[K     |█████▉                          | 450kB 29.4MB/s eta 0:00:01\r\u001b[K     |██████                          | 460kB 29.4MB/s eta 0:00:01\r\u001b[K     |██████                          | 471kB 29.4MB/s eta 0:00:01\r\u001b[K     |██████▏                         | 481kB 29.4MB/s eta 0:00:01\r\u001b[K     |██████▎                         | 491kB 29.4MB/s eta 0:00:01\r\u001b[K     |██████▍                         | 501kB 29.4MB/s eta 0:00:01\r\u001b[K     |██████▋                         | 512kB 29.4MB/s eta 0:00:01\r\u001b[K     |██████▊                         | 522kB 29.4MB/s eta 0:00:01\r\u001b[K     |██████▉                         | 532kB 29.4MB/s eta 0:00:01\r\u001b[K     |███████                         | 542kB 29.4MB/s eta 0:00:01\r\u001b[K     |███████                         | 552kB 29.4MB/s eta 0:00:01\r\u001b[K     |███████▎                        | 563kB 29.4MB/s eta 0:00:01\r\u001b[K     |███████▍                        | 573kB 29.4MB/s eta 0:00:01\r\u001b[K     |███████▌                        | 583kB 29.4MB/s eta 0:00:01\r\u001b[K     |███████▋                        | 593kB 29.4MB/s eta 0:00:01\r\u001b[K     |███████▊                        | 604kB 29.4MB/s eta 0:00:01\r\u001b[K     |███████▉                        | 614kB 29.4MB/s eta 0:00:01\r\u001b[K     |████████                        | 624kB 29.4MB/s eta 0:00:01\r\u001b[K     |████████▏                       | 634kB 29.4MB/s eta 0:00:01\r\u001b[K     |████████▎                       | 645kB 29.4MB/s eta 0:00:01\r\u001b[K     |████████▍                       | 655kB 29.4MB/s eta 0:00:01\r\u001b[K     |████████▌                       | 665kB 29.4MB/s eta 0:00:01\r\u001b[K     |████████▊                       | 675kB 29.4MB/s eta 0:00:01\r\u001b[K     |████████▉                       | 686kB 29.4MB/s eta 0:00:01\r\u001b[K     |█████████                       | 696kB 29.4MB/s eta 0:00:01\r\u001b[K     |█████████                       | 706kB 29.4MB/s eta 0:00:01\r\u001b[K     |█████████▏                      | 716kB 29.4MB/s eta 0:00:01\r\u001b[K     |█████████▎                      | 727kB 29.4MB/s eta 0:00:01\r\u001b[K     |█████████▌                      | 737kB 29.4MB/s eta 0:00:01\r\u001b[K     |█████████▋                      | 747kB 29.4MB/s eta 0:00:01\r\u001b[K     |█████████▊                      | 757kB 29.4MB/s eta 0:00:01\r\u001b[K     |█████████▉                      | 768kB 29.4MB/s eta 0:00:01\r\u001b[K     |██████████                      | 778kB 29.4MB/s eta 0:00:01\r\u001b[K     |██████████▏                     | 788kB 29.4MB/s eta 0:00:01\r\u001b[K     |██████████▎                     | 798kB 29.4MB/s eta 0:00:01\r\u001b[K     |██████████▍                     | 808kB 29.4MB/s eta 0:00:01\r\u001b[K     |██████████▌                     | 819kB 29.4MB/s eta 0:00:01\r\u001b[K     |██████████▋                     | 829kB 29.4MB/s eta 0:00:01\r\u001b[K     |██████████▊                     | 839kB 29.4MB/s eta 0:00:01\r\u001b[K     |███████████                     | 849kB 29.4MB/s eta 0:00:01\r\u001b[K     |███████████                     | 860kB 29.4MB/s eta 0:00:01\r\u001b[K     |███████████▏                    | 870kB 29.4MB/s eta 0:00:01\r\u001b[K     |███████████▎                    | 880kB 29.4MB/s eta 0:00:01\r\u001b[K     |███████████▍                    | 890kB 29.4MB/s eta 0:00:01\r\u001b[K     |███████████▋                    | 901kB 29.4MB/s eta 0:00:01\r\u001b[K     |███████████▊                    | 911kB 29.4MB/s eta 0:00:01\r\u001b[K     |███████████▉                    | 921kB 29.4MB/s eta 0:00:01\r\u001b[K     |████████████                    | 931kB 29.4MB/s eta 0:00:01\r\u001b[K     |████████████                    | 942kB 29.4MB/s eta 0:00:01\r\u001b[K     |████████████▏                   | 952kB 29.4MB/s eta 0:00:01\r\u001b[K     |████████████▍                   | 962kB 29.4MB/s eta 0:00:01\r\u001b[K     |████████████▌                   | 972kB 29.4MB/s eta 0:00:01\r\u001b[K     |████████████▋                   | 983kB 29.4MB/s eta 0:00:01\r\u001b[K     |████████████▊                   | 993kB 29.4MB/s eta 0:00:01\r\u001b[K     |████████████▉                   | 1.0MB 29.4MB/s eta 0:00:01\r\u001b[K     |█████████████                   | 1.0MB 29.4MB/s eta 0:00:01\r\u001b[K     |█████████████▏                  | 1.0MB 29.4MB/s eta 0:00:01\r\u001b[K     |█████████████▎                  | 1.0MB 29.4MB/s eta 0:00:01\r\u001b[K     |█████████████▍                  | 1.0MB 29.4MB/s eta 0:00:01\r\u001b[K     |█████████████▌                  | 1.1MB 29.4MB/s eta 0:00:01\r\u001b[K     |█████████████▋                  | 1.1MB 29.4MB/s eta 0:00:01\r\u001b[K     |█████████████▉                  | 1.1MB 29.4MB/s eta 0:00:01\r\u001b[K     |██████████████                  | 1.1MB 29.4MB/s eta 0:00:01\r\u001b[K     |██████████████                  | 1.1MB 29.4MB/s eta 0:00:01\r\u001b[K     |██████████████▏                 | 1.1MB 29.4MB/s eta 0:00:01\r\u001b[K     |██████████████▎                 | 1.1MB 29.4MB/s eta 0:00:01\r\u001b[K     |██████████████▌                 | 1.1MB 29.4MB/s eta 0:00:01\r\u001b[K     |██████████████▋                 | 1.1MB 29.4MB/s eta 0:00:01\r\u001b[K     |██████████████▊                 | 1.1MB 29.4MB/s eta 0:00:01\r\u001b[K     |██████████████▉                 | 1.2MB 29.4MB/s eta 0:00:01\r\u001b[K     |███████████████                 | 1.2MB 29.4MB/s eta 0:00:01\r\u001b[K     |███████████████                 | 1.2MB 29.4MB/s eta 0:00:01\r\u001b[K     |███████████████▎                | 1.2MB 29.4MB/s eta 0:00:01\r\u001b[K     |███████████████▍                | 1.2MB 29.4MB/s eta 0:00:01\r\u001b[K     |███████████████▌                | 1.2MB 29.4MB/s eta 0:00:01\r\u001b[K     |███████████████▋                | 1.2MB 29.4MB/s eta 0:00:01\r\u001b[K     |███████████████▊                | 1.2MB 29.4MB/s eta 0:00:01\r\u001b[K     |████████████████                | 1.2MB 29.4MB/s eta 0:00:01\r\u001b[K     |████████████████                | 1.2MB 29.4MB/s eta 0:00:01\r\u001b[K     |████████████████▏               | 1.3MB 29.4MB/s eta 0:00:01\r\u001b[K     |████████████████▎               | 1.3MB 29.4MB/s eta 0:00:01\r\u001b[K     |████████████████▍               | 1.3MB 29.4MB/s eta 0:00:01\r\u001b[K     |████████████████▌               | 1.3MB 29.4MB/s eta 0:00:01\r\u001b[K     |████████████████▊               | 1.3MB 29.4MB/s eta 0:00:01\r\u001b[K     |████████████████▉               | 1.3MB 29.4MB/s eta 0:00:01\r\u001b[K     |█████████████████               | 1.3MB 29.4MB/s eta 0:00:01\r\u001b[K     |█████████████████               | 1.3MB 29.4MB/s eta 0:00:01\r\u001b[K     |█████████████████▏              | 1.3MB 29.4MB/s eta 0:00:01\r\u001b[K     |█████████████████▍              | 1.4MB 29.4MB/s eta 0:00:01\r\u001b[K     |█████████████████▌              | 1.4MB 29.4MB/s eta 0:00:01\r\u001b[K     |█████████████████▋              | 1.4MB 29.4MB/s eta 0:00:01\r\u001b[K     |█████████████████▊              | 1.4MB 29.4MB/s eta 0:00:01\r\u001b[K     |█████████████████▉              | 1.4MB 29.4MB/s eta 0:00:01\r\u001b[K     |██████████████████              | 1.4MB 29.4MB/s eta 0:00:01\r\u001b[K     |██████████████████▏             | 1.4MB 29.4MB/s eta 0:00:01\r\u001b[K     |██████████████████▎             | 1.4MB 29.4MB/s eta 0:00:01\r\u001b[K     |██████████████████▍             | 1.4MB 29.4MB/s eta 0:00:01\r\u001b[K     |██████████████████▌             | 1.4MB 29.4MB/s eta 0:00:01\r\u001b[K     |██████████████████▋             | 1.5MB 29.4MB/s eta 0:00:01\r\u001b[K     |██████████████████▉             | 1.5MB 29.4MB/s eta 0:00:01\r\u001b[K     |███████████████████             | 1.5MB 29.4MB/s eta 0:00:01\r\u001b[K     |███████████████████             | 1.5MB 29.4MB/s eta 0:00:01\r\u001b[K     |███████████████████▏            | 1.5MB 29.4MB/s eta 0:00:01\r\u001b[K     |███████████████████▎            | 1.5MB 29.4MB/s eta 0:00:01\r\u001b[K     |███████████████████▍            | 1.5MB 29.4MB/s eta 0:00:01\r\u001b[K     |███████████████████▋            | 1.5MB 29.4MB/s eta 0:00:01\r\u001b[K     |███████████████████▊            | 1.5MB 29.4MB/s eta 0:00:01\r\u001b[K     |███████████████████▉            | 1.5MB 29.4MB/s eta 0:00:01\r\u001b[K     |████████████████████            | 1.6MB 29.4MB/s eta 0:00:01\r\u001b[K     |████████████████████            | 1.6MB 29.4MB/s eta 0:00:01\r\u001b[K     |████████████████████▎           | 1.6MB 29.4MB/s eta 0:00:01\r\u001b[K     |████████████████████▍           | 1.6MB 29.4MB/s eta 0:00:01\r\u001b[K     |████████████████████▌           | 1.6MB 29.4MB/s eta 0:00:01\r\u001b[K     |████████████████████▋           | 1.6MB 29.4MB/s eta 0:00:01\r\u001b[K     |████████████████████▊           | 1.6MB 29.4MB/s eta 0:00:01\r\u001b[K     |████████████████████▉           | 1.6MB 29.4MB/s eta 0:00:01\r\u001b[K     |█████████████████████           | 1.6MB 29.4MB/s eta 0:00:01\r\u001b[K     |█████████████████████▏          | 1.6MB 29.4MB/s eta 0:00:01\r\u001b[K     |█████████████████████▎          | 1.7MB 29.4MB/s eta 0:00:01\r\u001b[K     |█████████████████████▍          | 1.7MB 29.4MB/s eta 0:00:01\r\u001b[K     |█████████████████████▌          | 1.7MB 29.4MB/s eta 0:00:01\r\u001b[K     |█████████████████████▊          | 1.7MB 29.4MB/s eta 0:00:01\r\u001b[K     |█████████████████████▉          | 1.7MB 29.4MB/s eta 0:00:01\r\u001b[K     |██████████████████████          | 1.7MB 29.4MB/s eta 0:00:01\r\u001b[K     |██████████████████████          | 1.7MB 29.4MB/s eta 0:00:01\r\u001b[K     |██████████████████████▏         | 1.7MB 29.4MB/s eta 0:00:01\r\u001b[K     |██████████████████████▎         | 1.7MB 29.4MB/s eta 0:00:01\r\u001b[K     |██████████████████████▌         | 1.8MB 29.4MB/s eta 0:00:01\r\u001b[K     |██████████████████████▋         | 1.8MB 29.4MB/s eta 0:00:01\r\u001b[K     |██████████████████████▊         | 1.8MB 29.4MB/s eta 0:00:01\r\u001b[K     |██████████████████████▉         | 1.8MB 29.4MB/s eta 0:00:01\r\u001b[K     |███████████████████████         | 1.8MB 29.4MB/s eta 0:00:01\r\u001b[K     |███████████████████████▏        | 1.8MB 29.4MB/s eta 0:00:01\r\u001b[K     |███████████████████████▎        | 1.8MB 29.4MB/s eta 0:00:01\r\u001b[K     |███████████████████████▍        | 1.8MB 29.4MB/s eta 0:00:01\r\u001b[K     |███████████████████████▌        | 1.8MB 29.4MB/s eta 0:00:01\r\u001b[K     |███████████████████████▋        | 1.8MB 29.4MB/s eta 0:00:01\r\u001b[K     |███████████████████████▊        | 1.9MB 29.4MB/s eta 0:00:01\r\u001b[K     |████████████████████████        | 1.9MB 29.4MB/s eta 0:00:01\r\u001b[K     |████████████████████████        | 1.9MB 29.4MB/s eta 0:00:01\r\u001b[K     |████████████████████████▏       | 1.9MB 29.4MB/s eta 0:00:01\r\u001b[K     |████████████████████████▎       | 1.9MB 29.4MB/s eta 0:00:01\r\u001b[K     |████████████████████████▍       | 1.9MB 29.4MB/s eta 0:00:01\r\u001b[K     |████████████████████████▋       | 1.9MB 29.4MB/s eta 0:00:01\r\u001b[K     |████████████████████████▊       | 1.9MB 29.4MB/s eta 0:00:01\r\u001b[K     |████████████████████████▉       | 1.9MB 29.4MB/s eta 0:00:01\r\u001b[K     |█████████████████████████       | 1.9MB 29.4MB/s eta 0:00:01\r\u001b[K     |█████████████████████████       | 2.0MB 29.4MB/s eta 0:00:01\r\u001b[K     |█████████████████████████▏      | 2.0MB 29.4MB/s eta 0:00:01\r\u001b[K     |█████████████████████████▍      | 2.0MB 29.4MB/s eta 0:00:01\r\u001b[K     |█████████████████████████▌      | 2.0MB 29.4MB/s eta 0:00:01\r\u001b[K     |█████████████████████████▋      | 2.0MB 29.4MB/s eta 0:00:01\r\u001b[K     |█████████████████████████▊      | 2.0MB 29.4MB/s eta 0:00:01\r\u001b[K     |█████████████████████████▉      | 2.0MB 29.4MB/s eta 0:00:01\r\u001b[K     |██████████████████████████      | 2.0MB 29.4MB/s eta 0:00:01\r\u001b[K     |██████████████████████████▏     | 2.0MB 29.4MB/s eta 0:00:01\r\u001b[K     |██████████████████████████▎     | 2.0MB 29.4MB/s eta 0:00:01\r\u001b[K     |██████████████████████████▍     | 2.1MB 29.4MB/s eta 0:00:01\r\u001b[K     |██████████████████████████▌     | 2.1MB 29.4MB/s eta 0:00:01\r\u001b[K     |██████████████████████████▋     | 2.1MB 29.4MB/s eta 0:00:01\r\u001b[K     |██████████████████████████▉     | 2.1MB 29.4MB/s eta 0:00:01\r\u001b[K     |███████████████████████████     | 2.1MB 29.4MB/s eta 0:00:01\r\u001b[K     |███████████████████████████     | 2.1MB 29.4MB/s eta 0:00:01\r\u001b[K     |███████████████████████████▏    | 2.1MB 29.4MB/s eta 0:00:01\r\u001b[K     |███████████████████████████▎    | 2.1MB 29.4MB/s eta 0:00:01\r\u001b[K     |███████████████████████████▌    | 2.1MB 29.4MB/s eta 0:00:01\r\u001b[K     |███████████████████████████▋    | 2.2MB 29.4MB/s eta 0:00:01\r\u001b[K     |███████████████████████████▊    | 2.2MB 29.4MB/s eta 0:00:01\r\u001b[K     |███████████████████████████▉    | 2.2MB 29.4MB/s eta 0:00:01\r\u001b[K     |████████████████████████████    | 2.2MB 29.4MB/s eta 0:00:01\r\u001b[K     |████████████████████████████    | 2.2MB 29.4MB/s eta 0:00:01\r\u001b[K     |████████████████████████████▎   | 2.2MB 29.4MB/s eta 0:00:01\r\u001b[K     |████████████████████████████▍   | 2.2MB 29.4MB/s eta 0:00:01\r\u001b[K     |████████████████████████████▌   | 2.2MB 29.4MB/s eta 0:00:01\r\u001b[K     |████████████████████████████▋   | 2.2MB 29.4MB/s eta 0:00:01\r\u001b[K     |████████████████████████████▊   | 2.2MB 29.4MB/s eta 0:00:01\r\u001b[K     |█████████████████████████████   | 2.3MB 29.4MB/s eta 0:00:01\r\u001b[K     |█████████████████████████████   | 2.3MB 29.4MB/s eta 0:00:01\r\u001b[K     |█████████████████████████████▏  | 2.3MB 29.4MB/s eta 0:00:01\r\u001b[K     |█████████████████████████████▎  | 2.3MB 29.4MB/s eta 0:00:01\r\u001b[K     |█████████████████████████████▍  | 2.3MB 29.4MB/s eta 0:00:01\r\u001b[K     |█████████████████████████████▌  | 2.3MB 29.4MB/s eta 0:00:01\r\u001b[K     |█████████████████████████████▊  | 2.3MB 29.4MB/s eta 0:00:01\r\u001b[K     |█████████████████████████████▉  | 2.3MB 29.4MB/s eta 0:00:01\r\u001b[K     |██████████████████████████████  | 2.3MB 29.4MB/s eta 0:00:01\r\u001b[K     |██████████████████████████████  | 2.3MB 29.4MB/s eta 0:00:01\r\u001b[K     |██████████████████████████████▏ | 2.4MB 29.4MB/s eta 0:00:01\r\u001b[K     |██████████████████████████████▍ | 2.4MB 29.4MB/s eta 0:00:01\r\u001b[K     |██████████████████████████████▌ | 2.4MB 29.4MB/s eta 0:00:01\r\u001b[K     |██████████████████████████████▋ | 2.4MB 29.4MB/s eta 0:00:01\r\u001b[K     |██████████████████████████████▊ | 2.4MB 29.4MB/s eta 0:00:01\r\u001b[K     |██████████████████████████████▉ | 2.4MB 29.4MB/s eta 0:00:01\r\u001b[K     |███████████████████████████████ | 2.4MB 29.4MB/s eta 0:00:01\r\u001b[K     |███████████████████████████████▏| 2.4MB 29.4MB/s eta 0:00:01\r\u001b[K     |███████████████████████████████▎| 2.4MB 29.4MB/s eta 0:00:01\r\u001b[K     |███████████████████████████████▍| 2.4MB 29.4MB/s eta 0:00:01\r\u001b[K     |███████████████████████████████▌| 2.5MB 29.4MB/s eta 0:00:01\r\u001b[K     |███████████████████████████████▋| 2.5MB 29.4MB/s eta 0:00:01\r\u001b[K     |███████████████████████████████▉| 2.5MB 29.4MB/s eta 0:00:01\r\u001b[K     |████████████████████████████████| 2.5MB 29.4MB/s eta 0:00:01\r\u001b[K     |████████████████████████████████| 2.5MB 29.4MB/s \n",
            "\u001b[?25hRequirement already satisfied: pyyaml in /usr/local/lib/python3.7/dist-packages (from transformers) (3.13)\n",
            "Requirement already satisfied: regex!=2019.12.17 in /usr/local/lib/python3.7/dist-packages (from transformers) (2019.12.20)\n",
            "Requirement already satisfied: tqdm>=4.27 in /usr/local/lib/python3.7/dist-packages (from transformers) (4.41.1)\n",
            "Requirement already satisfied: requests in /usr/local/lib/python3.7/dist-packages (from transformers) (2.23.0)\n",
            "Requirement already satisfied: packaging in /usr/local/lib/python3.7/dist-packages (from transformers) (20.9)\n",
            "Collecting huggingface-hub==0.0.12\n",
            "  Downloading https://files.pythonhosted.org/packages/2f/ee/97e253668fda9b17e968b3f97b2f8e53aa0127e8807d24a547687423fe0b/huggingface_hub-0.0.12-py3-none-any.whl\n",
            "Collecting sacremoses\n",
            "\u001b[?25l  Downloading https://files.pythonhosted.org/packages/75/ee/67241dc87f266093c533a2d4d3d69438e57d7a90abb216fa076e7d475d4a/sacremoses-0.0.45-py3-none-any.whl (895kB)\n",
            "\u001b[K     |████████████████████████████████| 901kB 55.4MB/s \n",
            "\u001b[?25hRequirement already satisfied: numpy>=1.17 in /usr/local/lib/python3.7/dist-packages (from transformers) (1.19.5)\n",
            "Requirement already satisfied: importlib-metadata; python_version < \"3.8\" in /usr/local/lib/python3.7/dist-packages (from transformers) (4.5.0)\n",
            "Collecting tokenizers<0.11,>=0.10.1\n",
            "\u001b[?25l  Downloading https://files.pythonhosted.org/packages/d4/e2/df3543e8ffdab68f5acc73f613de9c2b155ac47f162e725dcac87c521c11/tokenizers-0.10.3-cp37-cp37m-manylinux_2_5_x86_64.manylinux1_x86_64.manylinux_2_12_x86_64.manylinux2010_x86_64.whl (3.3MB)\n",
            "\u001b[K     |████████████████████████████████| 3.3MB 53.8MB/s \n",
            "\u001b[?25hRequirement already satisfied: filelock in /usr/local/lib/python3.7/dist-packages (from transformers) (3.0.12)\n",
            "Requirement already satisfied: idna<3,>=2.5 in /usr/local/lib/python3.7/dist-packages (from requests->transformers) (2.10)\n",
            "Requirement already satisfied: certifi>=2017.4.17 in /usr/local/lib/python3.7/dist-packages (from requests->transformers) (2021.5.30)\n",
            "Requirement already satisfied: chardet<4,>=3.0.2 in /usr/local/lib/python3.7/dist-packages (from requests->transformers) (3.0.4)\n",
            "Requirement already satisfied: urllib3!=1.25.0,!=1.25.1,<1.26,>=1.21.1 in /usr/local/lib/python3.7/dist-packages (from requests->transformers) (1.24.3)\n",
            "Requirement already satisfied: pyparsing>=2.0.2 in /usr/local/lib/python3.7/dist-packages (from packaging->transformers) (2.4.7)\n",
            "Requirement already satisfied: typing-extensions in /usr/local/lib/python3.7/dist-packages (from huggingface-hub==0.0.12->transformers) (3.7.4.3)\n",
            "Requirement already satisfied: six in /usr/local/lib/python3.7/dist-packages (from sacremoses->transformers) (1.15.0)\n",
            "Requirement already satisfied: joblib in /usr/local/lib/python3.7/dist-packages (from sacremoses->transformers) (1.0.1)\n",
            "Requirement already satisfied: click in /usr/local/lib/python3.7/dist-packages (from sacremoses->transformers) (7.1.2)\n",
            "Requirement already satisfied: zipp>=0.5 in /usr/local/lib/python3.7/dist-packages (from importlib-metadata; python_version < \"3.8\"->transformers) (3.4.1)\n",
            "Installing collected packages: huggingface-hub, sacremoses, tokenizers, transformers\n",
            "Successfully installed huggingface-hub-0.0.12 sacremoses-0.0.45 tokenizers-0.10.3 transformers-4.8.1\n"
          ],
          "name": "stdout"
        }
      ]
    },
    {
      "cell_type": "code",
      "metadata": {
        "id": "V6K5gMFhZ_yD"
      },
      "source": [
        "import torch\n",
        "import torch.nn as nn\n",
        "from torch.utils.data import DataLoader\n",
        "import numpy as np\n",
        "import pandas as pd\n",
        "import seaborn as sns\n",
        "import matplotlib.pyplot as plt\n",
        "import re \n",
        "import ipywidgets as widgets\n",
        "from sklearn.model_selection import train_test_split\n",
        "from sklearn.metrics import classification_report \n",
        "import transformers\n",
        "from transformers import BertTokenizer,AutoModel, BertModel\n",
        "from transformers.optimization import AdamW\n",
        "from transformers import get_linear_schedule_with_warmup\n",
        "from collections import defaultdict\n",
        "import random"
      ],
      "execution_count": 14,
      "outputs": []
    },
    {
      "cell_type": "code",
      "metadata": {
        "colab": {
          "base_uri": "https://localhost:8080/",
          "height": 417
        },
        "id": "FffudPIwKrI0",
        "outputId": "74a7f6aa-1a7f-4eaf-bada-04388c1e0b6e"
      },
      "source": [
        "df= pd.read_csv(\"/content/drive/MyDrive/IMDB Dataset.csv\")\n",
        "df"
      ],
      "execution_count": 15,
      "outputs": [
        {
          "output_type": "execute_result",
          "data": {
            "text/html": [
              "<div>\n",
              "<style scoped>\n",
              "    .dataframe tbody tr th:only-of-type {\n",
              "        vertical-align: middle;\n",
              "    }\n",
              "\n",
              "    .dataframe tbody tr th {\n",
              "        vertical-align: top;\n",
              "    }\n",
              "\n",
              "    .dataframe thead th {\n",
              "        text-align: right;\n",
              "    }\n",
              "</style>\n",
              "<table border=\"1\" class=\"dataframe\">\n",
              "  <thead>\n",
              "    <tr style=\"text-align: right;\">\n",
              "      <th></th>\n",
              "      <th>review</th>\n",
              "      <th>sentiment</th>\n",
              "    </tr>\n",
              "  </thead>\n",
              "  <tbody>\n",
              "    <tr>\n",
              "      <th>0</th>\n",
              "      <td>One of the other reviewers has mentioned that ...</td>\n",
              "      <td>positive</td>\n",
              "    </tr>\n",
              "    <tr>\n",
              "      <th>1</th>\n",
              "      <td>A wonderful little production. &lt;br /&gt;&lt;br /&gt;The...</td>\n",
              "      <td>positive</td>\n",
              "    </tr>\n",
              "    <tr>\n",
              "      <th>2</th>\n",
              "      <td>I thought this was a wonderful way to spend ti...</td>\n",
              "      <td>positive</td>\n",
              "    </tr>\n",
              "    <tr>\n",
              "      <th>3</th>\n",
              "      <td>Basically there's a family where a little boy ...</td>\n",
              "      <td>negative</td>\n",
              "    </tr>\n",
              "    <tr>\n",
              "      <th>4</th>\n",
              "      <td>Petter Mattei's \"Love in the Time of Money\" is...</td>\n",
              "      <td>positive</td>\n",
              "    </tr>\n",
              "    <tr>\n",
              "      <th>...</th>\n",
              "      <td>...</td>\n",
              "      <td>...</td>\n",
              "    </tr>\n",
              "    <tr>\n",
              "      <th>49995</th>\n",
              "      <td>I thought this movie did a down right good job...</td>\n",
              "      <td>positive</td>\n",
              "    </tr>\n",
              "    <tr>\n",
              "      <th>49996</th>\n",
              "      <td>Bad plot, bad dialogue, bad acting, idiotic di...</td>\n",
              "      <td>negative</td>\n",
              "    </tr>\n",
              "    <tr>\n",
              "      <th>49997</th>\n",
              "      <td>I am a Catholic taught in parochial elementary...</td>\n",
              "      <td>negative</td>\n",
              "    </tr>\n",
              "    <tr>\n",
              "      <th>49998</th>\n",
              "      <td>I'm going to have to disagree with the previou...</td>\n",
              "      <td>negative</td>\n",
              "    </tr>\n",
              "    <tr>\n",
              "      <th>49999</th>\n",
              "      <td>No one expects the Star Trek movies to be high...</td>\n",
              "      <td>negative</td>\n",
              "    </tr>\n",
              "  </tbody>\n",
              "</table>\n",
              "<p>50000 rows × 2 columns</p>\n",
              "</div>"
            ],
            "text/plain": [
              "                                                  review sentiment\n",
              "0      One of the other reviewers has mentioned that ...  positive\n",
              "1      A wonderful little production. <br /><br />The...  positive\n",
              "2      I thought this was a wonderful way to spend ti...  positive\n",
              "3      Basically there's a family where a little boy ...  negative\n",
              "4      Petter Mattei's \"Love in the Time of Money\" is...  positive\n",
              "...                                                  ...       ...\n",
              "49995  I thought this movie did a down right good job...  positive\n",
              "49996  Bad plot, bad dialogue, bad acting, idiotic di...  negative\n",
              "49997  I am a Catholic taught in parochial elementary...  negative\n",
              "49998  I'm going to have to disagree with the previou...  negative\n",
              "49999  No one expects the Star Trek movies to be high...  negative\n",
              "\n",
              "[50000 rows x 2 columns]"
            ]
          },
          "metadata": {
            "tags": []
          },
          "execution_count": 15
        }
      ]
    },
    {
      "cell_type": "code",
      "metadata": {
        "colab": {
          "base_uri": "https://localhost:8080/"
        },
        "id": "K6yYc38IXygl",
        "outputId": "d7215710-bb5e-47ab-dd29-806967850f5a"
      },
      "source": [
        "df.info()"
      ],
      "execution_count": 16,
      "outputs": [
        {
          "output_type": "stream",
          "text": [
            "<class 'pandas.core.frame.DataFrame'>\n",
            "RangeIndex: 50000 entries, 0 to 49999\n",
            "Data columns (total 2 columns):\n",
            " #   Column     Non-Null Count  Dtype \n",
            "---  ------     --------------  ----- \n",
            " 0   review     50000 non-null  object\n",
            " 1   sentiment  50000 non-null  object\n",
            "dtypes: object(2)\n",
            "memory usage: 781.4+ KB\n"
          ],
          "name": "stdout"
        }
      ]
    },
    {
      "cell_type": "code",
      "metadata": {
        "id": "lG3qVo84tnK8"
      },
      "source": [
        "idx=[]\n",
        "for i in range(20000):\n",
        "  idx.append(random.randint(1,50000))\n",
        "\n",
        "df= df.iloc[idx,:].copy()\n",
        "df.reset_index(drop=True,inplace=True)"
      ],
      "execution_count": 17,
      "outputs": []
    },
    {
      "cell_type": "code",
      "metadata": {
        "id": "5wq6kPpHNMeY",
        "colab": {
          "base_uri": "https://localhost:8080/",
          "height": 350
        },
        "outputId": "1de772c2-552f-4ce0-a610-eeab4aff6a10"
      },
      "source": [
        "df[\"sentiment\"]= pd.Series(np.where(df[\"sentiment\"]==\"positive\",1,0))\n",
        "#review_list= df.review.tolist()\n",
        "\n",
        "ax= sns.countplot(df.sentiment)\n",
        "plt.xlabel('review score')"
      ],
      "execution_count": 18,
      "outputs": [
        {
          "output_type": "stream",
          "text": [
            "/usr/local/lib/python3.7/dist-packages/seaborn/_decorators.py:43: FutureWarning: Pass the following variable as a keyword arg: x. From version 0.12, the only valid positional argument will be `data`, and passing other arguments without an explicit keyword will result in an error or misinterpretation.\n",
            "  FutureWarning\n"
          ],
          "name": "stderr"
        },
        {
          "output_type": "execute_result",
          "data": {
            "text/plain": [
              "Text(0.5, 0, 'review score')"
            ]
          },
          "metadata": {
            "tags": []
          },
          "execution_count": 18
        },
        {
          "output_type": "display_data",
          "data": {
            "image/png": "[encoded data removed]",
            "text/plain": [
              "<Figure size 432x288 with 1 Axes>"
            ]
          },
          "metadata": {
            "tags": [],
            "needs_background": "light"
          }
        }
      ]
    },
    {
      "cell_type": "markdown",
      "metadata": {
        "id": "Y89z109I-_Ud"
      },
      "source": [
        "Before tokenizing our text, we will perform some slight processing on our text including removing entity mentions.\n",
        "The level of processing here is much less than in previous approachs because BERT was trained with the entire sentences"
      ]
    },
    {
      "cell_type": "code",
      "metadata": {
        "id": "t7uCT51nsZTG"
      },
      "source": [
        "def re_preprocessing(text):\n",
        "  # Isolate and remove punctuations except '?'\n",
        "  text= re.sub(r'([\\'\\\"\\.\\(\\)\\!\\?\\\\\\/\\,])', r' \\1 ', text)\n",
        "  text= re.sub(r'[^\\w\\s\\?]', ' ', text)\n",
        "  \n",
        "  text = re.sub(r'(@.*?)[\\s]',\" \",text)\n",
        "  text= re.sub(r\"\\s+\",\" \",text).strip()\n",
        "\n",
        "  return text \n",
        "\n",
        "df[\"review\"]= df[\"review\"].apply(lambda x: re_preprocessing(x))"
      ],
      "execution_count": 19,
      "outputs": []
    },
    {
      "cell_type": "markdown",
      "metadata": {
        "id": "pa7hMdeeHhnB"
      },
      "source": [
        "Because we are considering the uncased model, the sentence was lowercased first.In Bert model, Word piece tokenizer is used which splits \"gpu\" into known subwords: [\"gp\" and \"##u\"]. \"##\" means that the rest of the token should be attached to the previous one, without space (for decoding or reversal of the tokenization)"
      ]
    },
    {
      "cell_type": "markdown",
      "metadata": {
        "id": "tDgCTXY-C7kz"
      },
      "source": [
        "To feed our text to BERT, it must be split into tokens, and then these tokens must be mapped to their index in the tokenizer vocabulary.Add special tokens to separate sentences and do classification\n",
        "Pass sequences of constant length (introduce padding)\n",
        "Create array of 0s (pad token) and 1s (real token) called attention mask"
      ]
    },
    {
      "cell_type": "code",
      "metadata": {
        "id": "b3A7LxRMMv5T",
        "colab": {
          "base_uri": "https://localhost:8080/",
          "height": 350
        },
        "outputId": "77096971-1501-4280-eb31-59704ac6b31c"
      },
      "source": [
        "sns.distplot(df[\"review\"].apply(lambda x: len(x.split())),bins=40)\n",
        "plt.xlabel(\"Review Length\")\n",
        "plt.ylabel(\"Number of Reviews\")\n",
        "plt.xlim([0,512])"
      ],
      "execution_count": 20,
      "outputs": [
        {
          "output_type": "stream",
          "text": [
            "/usr/local/lib/python3.7/dist-packages/seaborn/distributions.py:2557: FutureWarning: `distplot` is a deprecated function and will be removed in a future version. Please adapt your code to use either `displot` (a figure-level function with similar flexibility) or `histplot` (an axes-level function for histograms).\n",
            "  warnings.warn(msg, FutureWarning)\n"
          ],
          "name": "stderr"
        },
        {
          "output_type": "execute_result",
          "data": {
            "text/plain": [
              "(0.0, 512.0)"
            ]
          },
          "metadata": {
            "tags": []
          },
          "execution_count": 20
        },
        {
          "output_type": "display_data",
          "data": {
            "image/png": "[encoded data removed]",
            "text/plain": [
              "<Figure size 432x288 with 1 Axes>"
            ]
          },
          "metadata": {
            "tags": [],
            "needs_background": "light"
          }
        }
      ]
    },
    {
      "cell_type": "code",
      "metadata": {
        "id": "mQLIuckCL2D4",
        "colab": {
          "base_uri": "https://localhost:8080/"
        },
        "outputId": "bfafd687-76f0-4e77-e03e-9d130ba83fc4"
      },
      "source": [
        "df[\"review\"]= df[\"review\"].apply(lambda x: \" \".join(x.split()[:350]))\n",
        "max_len = df[\"review\"].apply(lambda x: len(x.split())).max()\n",
        "print(max_len)"
      ],
      "execution_count": 21,
      "outputs": [
        {
          "output_type": "stream",
          "text": [
            "350\n"
          ],
          "name": "stdout"
        }
      ]
    },
    {
      "cell_type": "code",
      "metadata": {
        "id": "gKLzhiqsIING",
        "colab": {
          "base_uri": "https://localhost:8080/",
          "height": 163,
          "referenced_widgets": [
            "6b15463ca5a142168a77dfc82a6feeab",
            "462fec13d114488ca001f363a176679f",
            "6a22107f24c3439c9fede8a8846b2203",
            "e7faf22fdca24169afc1cd97c4a502cd",
            "5257ee142d3a48f9a2a78e3b1ab0a5e4",
            "330a51dbd78b4367b5f3c91cfa86304d",
            "9c95c500a38240eea0d31555b48ab8d4",
            "4f36969102d64cb4b014913cb9794a51",
            "40d0a78249874aa8961df7977c9e90db",
            "bf6294a252e440eaaf837714e187ea51",
            "db2957dc1d4645c0a584bc9944098bcf",
            "a2170527e09d42aab02dac05f6a15b49",
            "07065531e6df40099cec4d08104d0399",
            "d8d39050a886435e8ef4f4fc428586a9",
            "8b828e52b845465d9efc1d0ef6606038",
            "8f276edaa2da4a739dc2901a8743915e",
            "418581490193454688dd9f9f9b3b5b9f",
            "53989c12727b435a82a209e921dba89b",
            "0162f0a457724d9e80c0f7d567c87cef",
            "10b978441b164636bda219722f67d450",
            "e09e4a80748243f28658b37554ed8bc2",
            "2bbe94ce003c4505a93eeb59f87de6f8",
            "6dad2deaf0a448968386bc6e6ce7b1c8",
            "8bd8c9276f1e4d84ac53ceec75d49594"
          ]
        },
        "outputId": "6b40623c-bbb9-4970-88be-324532a5e23c"
      },
      "source": [
        "Max_Len= 350\n",
        "model_name=\"bert-base-uncased\"\n",
        "tokenizer= BertTokenizer.from_pretrained(model_name,do_lower_case=True)\n",
        "\n",
        "class Final_embedding_dataset():\n",
        "  \n",
        "  def __init__(self,reviews,targets,tokenizer,max_len):\n",
        "    \n",
        "    self.reviews= reviews\n",
        "    self.targets= targets\n",
        "    self.tokenizer= tokenizer\n",
        "    self.max_len= max_len\n",
        "    \n",
        "  def __len__(self):\n",
        "    return len(self.reviews)\n",
        "\n",
        "  def __getitem__(self,item):\n",
        "\n",
        "    review= self.reviews[item]\n",
        "    target= self.targets[item]\n",
        "\n",
        "    encoding = self.tokenizer.encode_plus(review,add_special_tokens=True, padding=\"max_length\",truncation=True, \n",
        "                                 return_tensors=\"pt\",verbose=False,max_length=self.max_len,return_attention_mask=True)\n",
        "    \n",
        "# return_tensors=\"pt\", gives us the embedding in form of tensors.\n",
        "# tensors should be flattened.\n",
        "    return {\"review\":review,\n",
        "      \"input_ids\":encoding[\"input_ids\"].flatten(),\n",
        "      \"attention_mask\":encoding[\"attention_mask\"].flatten(),\n",
        "      \"target\": torch.tensor(target,dtype= torch.long)}"
      ],
      "execution_count": 22,
      "outputs": [
        {
          "output_type": "display_data",
          "data": {
            "application/vnd.jupyter.widget-view+json": {
              "model_id": "6b15463ca5a142168a77dfc82a6feeab",
              "version_minor": 0,
              "version_major": 2
            },
            "text/plain": [
              "HBox(children=(FloatProgress(value=0.0, description='Downloading', max=231508.0, style=ProgressStyle(descripti…"
            ]
          },
          "metadata": {
            "tags": []
          }
        },
        {
          "output_type": "stream",
          "text": [
            "\n"
          ],
          "name": "stdout"
        },
        {
          "output_type": "display_data",
          "data": {
            "application/vnd.jupyter.widget-view+json": {
              "model_id": "40d0a78249874aa8961df7977c9e90db",
              "version_minor": 0,
              "version_major": 2
            },
            "text/plain": [
              "HBox(children=(FloatProgress(value=0.0, description='Downloading', max=28.0, style=ProgressStyle(description_w…"
            ]
          },
          "metadata": {
            "tags": []
          }
        },
        {
          "output_type": "stream",
          "text": [
            "\n"
          ],
          "name": "stdout"
        },
        {
          "output_type": "display_data",
          "data": {
            "application/vnd.jupyter.widget-view+json": {
              "model_id": "418581490193454688dd9f9f9b3b5b9f",
              "version_minor": 0,
              "version_major": 2
            },
            "text/plain": [
              "HBox(children=(FloatProgress(value=0.0, description='Downloading', max=466062.0, style=ProgressStyle(descripti…"
            ]
          },
          "metadata": {
            "tags": []
          }
        },
        {
          "output_type": "stream",
          "text": [
            "\n"
          ],
          "name": "stdout"
        }
      ]
    },
    {
      "cell_type": "markdown",
      "metadata": {
        "id": "Q9p1lNbrBIoo"
      },
      "source": [
        "verbose=false suggest that if the keyword argument is not consistent with the model it doesn't throw an error, instead ignore it."
      ]
    },
    {
      "cell_type": "markdown",
      "metadata": {
        "id": "DQkaxLnE25Uu"
      },
      "source": [
        "Attention_mask is all about: it points out which tokens the model should pay attention to and which ones it should not (because they represent padding in this case).\n",
        "token type IDs (also called segment IDs). They are represented as a binary mask identifying the two types of sequence in the model.\n",
        "positions_ids is used to identify each token's position in the list of tokens\n",
        "The default positional encoding is absolute(generally used in BERT), whereas some of the model us sinusodial position encoding also."
      ]
    },
    {
      "cell_type": "code",
      "metadata": {
        "id": "t7lYpABLE77g",
        "colab": {
          "base_uri": "https://localhost:8080/"
        },
        "outputId": "fede1873-e51f-4edf-e51d-ebe12c4dd52a"
      },
      "source": [
        "df_train,df_test= train_test_split(df,test_size=0.2,random_state=1)\n",
        "print(df_train.shape,df_test.shape)"
      ],
      "execution_count": 23,
      "outputs": [
        {
          "output_type": "stream",
          "text": [
            "(16000, 2) (4000, 2)\n"
          ],
          "name": "stdout"
        }
      ]
    },
    {
      "cell_type": "markdown",
      "metadata": {
        "id": "omZR96sYSnHE"
      },
      "source": [
        "Data Loader function from pytorch library could take in a map based dataset or a iterable dataset, i have used the map based one using the magic methods, __len__ and __getitem__ to create a map based iteratable object"
      ]
    },
    {
      "cell_type": "code",
      "metadata": {
        "id": "MCAzR4EpE75o"
      },
      "source": [
        "def create_data_loader(df,batch_size,tokenizer,max_len):\n",
        "  dataset= Final_embedding_dataset(df[\"review\"].to_numpy(),df[\"sentiment\"].to_numpy(),tokenizer,Max_Len)\n",
        "\n",
        "  return DataLoader(dataset,batch_size=batch_size,num_workers=2)\n",
        "\n",
        "Batch_Size= 16\n",
        "\n",
        "train_data_loader= create_data_loader(df_train,Batch_Size,tokenizer,Max_Len)\n",
        "test_data_loader= create_data_loader(df_test,Batch_Size,tokenizer,Max_Len)"
      ],
      "execution_count": 24,
      "outputs": []
    },
    {
      "cell_type": "code",
      "metadata": {
        "id": "Gztg9pCnE73h",
        "colab": {
          "base_uri": "https://localhost:8080/"
        },
        "outputId": "1ce66032-70dd-4fdc-cfd9-d0a3a16976ac"
      },
      "source": [
        "#Experimentation:-\n",
        "data= next(iter(train_data_loader))\n",
        "print(data[\"input_ids\"].shape)\n",
        "print(data[\"attention_mask\"].shape)\n",
        "print(data[\"target\"].shape)"
      ],
      "execution_count": 25,
      "outputs": [
        {
          "output_type": "stream",
          "text": [
            "torch.Size([16, 350])\n",
            "torch.Size([16, 350])\n",
            "torch.Size([16])\n"
          ],
          "name": "stdout"
        }
      ]
    },
    {
      "cell_type": "code",
      "metadata": {
        "id": "TKl4VywYLFKy",
        "colab": {
          "base_uri": "https://localhost:8080/",
          "height": 202,
          "referenced_widgets": [
            "0a27f0e8760d4ece83d159a1d683e0a6",
            "17ff1b80874f4a4499440fa5b644bbd5",
            "618bf6c3d2f6498a95d4053397970a30",
            "4735321a8bf54b908bc698a07c988656",
            "b906de637c644ab48b87f8f06ebb5591",
            "3a95cbcca88e4b7992396c3bff1ab9ce",
            "c7ea06149d464521bd210d98ebc2b82d",
            "820d2ca8dc0c41d59b723b78d122de02",
            "071134bcc802476d9c274f754ccbc049",
            "f3c7e280e46e4c459574a78ff18b0a6d",
            "ac8250fb1dfe4a45b7acf2c87911184c",
            "091997dd42934315b59eacbd932ebf7e",
            "fb00ba3e000c4fc7ab2f5ff1cac8f56c",
            "8f83f373b66f40aca71512b5300f742d",
            "4237d93f1541413195b2b6ad18488067",
            "d1ee7049b01440069d29362644a2b56d"
          ]
        },
        "outputId": "5311f4ec-63da-4c8f-82b2-b896479acd35"
      },
      "source": [
        "model= AutoModel.from_pretrained(model_name)\n",
        "model.config.hidden_size"
      ],
      "execution_count": 26,
      "outputs": [
        {
          "output_type": "display_data",
          "data": {
            "application/vnd.jupyter.widget-view+json": {
              "model_id": "0a27f0e8760d4ece83d159a1d683e0a6",
              "version_minor": 0,
              "version_major": 2
            },
            "text/plain": [
              "HBox(children=(FloatProgress(value=0.0, description='Downloading', max=570.0, style=ProgressStyle(description_…"
            ]
          },
          "metadata": {
            "tags": []
          }
        },
        {
          "output_type": "stream",
          "text": [
            "\n"
          ],
          "name": "stdout"
        },
        {
          "output_type": "display_data",
          "data": {
            "application/vnd.jupyter.widget-view+json": {
              "model_id": "071134bcc802476d9c274f754ccbc049",
              "version_minor": 0,
              "version_major": 2
            },
            "text/plain": [
              "HBox(children=(FloatProgress(value=0.0, description='Downloading', max=440473133.0, style=ProgressStyle(descri…"
            ]
          },
          "metadata": {
            "tags": []
          }
        },
        {
          "output_type": "stream",
          "text": [
            "\n"
          ],
          "name": "stdout"
        },
        {
          "output_type": "stream",
          "text": [
            "Some weights of the model checkpoint at bert-base-uncased were not used when initializing BertModel: ['cls.predictions.bias', 'cls.predictions.transform.dense.bias', 'cls.predictions.decoder.weight', 'cls.predictions.transform.LayerNorm.weight', 'cls.seq_relationship.weight', 'cls.predictions.transform.LayerNorm.bias', 'cls.seq_relationship.bias', 'cls.predictions.transform.dense.weight']\n",
            "- This IS expected if you are initializing BertModel from the checkpoint of a model trained on another task or with another architecture (e.g. initializing a BertForSequenceClassification model from a BertForPreTraining model).\n",
            "- This IS NOT expected if you are initializing BertModel from the checkpoint of a model that you expect to be exactly identical (initializing a BertForSequenceClassification model from a BertForSequenceClassification model).\n"
          ],
          "name": "stderr"
        },
        {
          "output_type": "execute_result",
          "data": {
            "text/plain": [
              "768"
            ]
          },
          "metadata": {
            "tags": []
          },
          "execution_count": 26
        }
      ]
    },
    {
      "cell_type": "markdown",
      "metadata": {
        "id": "rEntZOyVQKqp"
      },
      "source": [
        "think of the pooled_output as a summary of the content, according to BERT."
      ]
    },
    {
      "cell_type": "code",
      "metadata": {
        "id": "OfyO8ZqnBkdF"
      },
      "source": [
        "class SentimentClassifier(nn.Module):\n",
        "  def __init__(self,n_classes,model):\n",
        "    super(SentimentClassifier,self).__init__()\n",
        "    self.model = model\n",
        "    self.dropout= nn.Dropout(p=0.3)\n",
        "    self.output= nn.Linear(self.model.config.hidden_size,n_classes)\n",
        "\n",
        "  def forward(self,input_ids,attention_mask):\n",
        "    output= self.model(input_ids=input_ids,attention_mask=attention_mask)\n",
        "    class_output= self.dropout(output[\"pooler_output\"])\n",
        "\n",
        "    return self.output(class_output)"
      ],
      "execution_count": 27,
      "outputs": []
    },
    {
      "cell_type": "code",
      "metadata": {
        "id": "K326d6McBkaZ"
      },
      "source": [
        "n_classes= 2\n",
        "classifier_model= SentimentClassifier(n_classes,model)\n",
        "classifier_model= classifier_model.to(device)"
      ],
      "execution_count": 28,
      "outputs": []
    },
    {
      "cell_type": "code",
      "metadata": {
        "id": "KPkFWhdvFgdi"
      },
      "source": [
        "EPOCHS= 10 \n",
        "\n",
        "optimizer= AdamW(classifier_model.parameters(),lr=3e-5, correct_bias=False) # in bert actual implementation correct_bias is False\n",
        "scheduler = get_linear_schedule_with_warmup(optimizer,num_warmup_steps=0,num_training_steps= len(train_data_loader)*EPOCHS) # num_steps= num_minibatch*Epoch\n",
        "\n",
        "loss_function= nn.CrossEntropyLoss().to(device)"
      ],
      "execution_count": 29,
      "outputs": []
    },
    {
      "cell_type": "code",
      "metadata": {
        "id": "ocx243at8mgq"
      },
      "source": [
        "# helper function for training. Basically a function for training step- one epoch.\n",
        "\n",
        "def train_one_epoch(model,data_loader,loss_function,optimizer,device,scheduler,n_examples):\n",
        "\n",
        "  model= model.train()\n",
        "\n",
        "  losses=[]\n",
        "  correct_predictions= 0\n",
        "\n",
        "  for d in data_loader:\n",
        "    input_ids= d.get(\"input_ids\").to(device)\n",
        "    attention_mask= d.get(\"attention_mask\").to(device)\n",
        "    targets= d.get(\"target\").to(device)\n",
        "\n",
        "    outputs= model(input_ids,attention_mask)\n",
        "    \n",
        "    _,preds= torch.max(outputs,dim=1)\n",
        "    loss= loss_function(outputs,targets)\n",
        "\n",
        "    correct_predictions+= torch.sum(preds==targets)\n",
        "    losses.append(loss.item())\n",
        "\n",
        "    loss.backward()\n",
        "    nn.utils.clip_grad_norm_(model.parameters(),max_norm=1.0) # is necessary to ensure that the gradients doesn't blow up\n",
        "    optimizer.step()\n",
        "    scheduler.step()\n",
        "    optimizer.zero_grad()\n",
        "    \n",
        "    accuracy= correct_predictions/n_examples\n",
        "\n",
        "  return accuracy,np.mean(losses)\n"
      ],
      "execution_count": 30,
      "outputs": []
    },
    {
      "cell_type": "code",
      "metadata": {
        "id": "qIHnU_oxVRNu"
      },
      "source": [
        "def eval_model(model,data_loader,loss_function,device,n_examples):\n",
        "\n",
        "  model= model.eval()\n",
        "\n",
        "  losses=[]\n",
        "  correct_predictions= 0\n",
        "\n",
        "  with torch.no_grad():\n",
        "    for d in data_loader:\n",
        "      input_ids= d.get(\"input_ids\").to(device)\n",
        "      attention_mask= d.get(\"attention_mask\").to(device)\n",
        "      targets= d.get(\"target\").to(device)\n",
        "     \n",
        "      outputs= model(input_ids,attention_mask)\n",
        "    \n",
        "      _,preds= torch.max(outputs,dim=1)\n",
        "      loss= loss_function(outputs,targets)\n",
        "\n",
        "      correct_predictions+= torch.sum(preds==targets)\n",
        "      losses.append(loss.item())\n",
        "    \n",
        "      accuracy= correct_predictions.double()/n_examples\n",
        "\n",
        "  return accuracy,np.mean(losses)\n"
      ],
      "execution_count": 31,
      "outputs": []
    },
    {
      "cell_type": "code",
      "metadata": {
        "id": "5CvgX4GkEfGt"
      },
      "source": [
        "#call model using classifier_model\n",
        "# writing the training loop\n",
        "\n",
        "history=defaultdict(list)\n",
        "best_accuracy=0\n",
        "\n",
        "for epoch in range(EPOCHS):\n",
        "  print(f\"EPOCH: {epoch+1}/{EPOCHS}\")\n",
        "  print(\"---\"*10)\n",
        "\n",
        "  train_acc,train_loss= train_one_epoch(classifier_model,train_data_loader,loss_function,optimizer,device,scheduler,len(df_train))\n",
        " \n",
        "  print(f\"Accuracy: {train_acc} Train loss: {train_loss}\")\n",
        "  \n",
        "  test_acc, test_loss = eval_model(classifier_model,test_data_loader,loss_function,device, len(df_test) )\n",
        "\n",
        "  print(f\"test_accuracy: {test_acc} Test loss: {test_loss}\")\n",
        "\n",
        "  history['train_acc'].append(train_acc)\n",
        "  history['train_loss'].append(train_loss)\n",
        "  history['test_acc'].append(test_acc)\n",
        "  history['test_loss'].append(test_loss)\n",
        "\n",
        "  # if test_acc> best_accuracy:\n",
        "  #   torch.save(model.state_dict(),\"best_model_state.bin\")\n",
        "  #   best_accuracy= test_acc\n",
        "\n",
        "torch.save(model.state_dict(),\"model.bin\")"
      ],
      "execution_count": null,
      "outputs": []
    },
    {
      "cell_type": "code",
      "metadata": {
        "id": "NBikdjqjWDR9"
      },
      "source": [
        "plt.plot(np.arange(EPOCHS),history[\"train_acc\"],label=\"train_accuracy\")\n",
        "plt.plot(np.arange(EPOCHS),history[\"test_acc\"],label=\"test_accuracy\")\n",
        "\n",
        "plt.xlabel(\"EPOCHS\")\n",
        "plt.ylabel(\"Accuracy\")\n",
        "plt.title(\"Accuracy Plot\")\n",
        "plt.ylim([0,1])\n",
        "plt.show()"
      ],
      "execution_count": null,
      "outputs": []
    },
    {
      "cell_type": "code",
      "metadata": {
        "id": "x_wlUbYovTni"
      },
      "source": [
        "def get_predictions(model,data_loader):\n",
        "\n",
        "  model= model.eval()\n",
        "\n",
        "  review_text= []\n",
        "  predictions= []\n",
        "  prediction_probs= []\n",
        "  target_values= []\n",
        "\n",
        "  with torch.no_grad():\n",
        "    for d in data_loader:\n",
        "      input_ids= d.get(\"input_ids\").to(device)\n",
        "      attention_mask= d.get(\"attention_mask\").to(device)\n",
        "      targets= d.get(\"target\").to(device)\n",
        "\n",
        "      outputs= model(input_ids,attention_mask)\n",
        "    \n",
        "      _,preds= torch.max(outputs,dim=1)\n",
        "      probs= F.softmax(outputs,dim=1)\n",
        "\n",
        "      review_text.append(d[\"review_text\"]).cpu()\n",
        "      predictions.append(preds).cpu()\n",
        "      prediction_probs.append(probs).cpu()\n",
        "      target_values.append(targets).cpu()\n",
        "      \n",
        "\n",
        "  return review_text, predictions, prediction_probs, target_values"
      ],
      "execution_count": null,
      "outputs": []
    },
    {
      "cell_type": "code",
      "metadata": {
        "id": "LIoKu1aovTqp"
      },
      "source": [
        "y_review_texts, y_pred, y_pred_probs, y_test = get_predictions(model,test_data_loader)"
      ],
      "execution_count": null,
      "outputs": []
    },
    {
      "cell_type": "code",
      "metadata": {
        "id": "D5BkcZt259aR"
      },
      "source": [
        "classification_report(y_test,y_pred)"
      ],
      "execution_count": null,
      "outputs": []
    },
    {
      "cell_type": "code",
      "metadata": {
        "id": "AIMt6HToYbEg"
      },
      "source": [
        "# Get predictions from the probabilities\n",
        "# threshold = 0.9\n",
        "# preds = np.where(probs[:, 1] > threshold, 1, 0)"
      ],
      "execution_count": null,
      "outputs": []
    },
    {
      "cell_type": "code",
      "metadata": {
        "id": "Ysr8jVD6BkIc"
      },
      "source": [
        "# A widget to select among the transformers model to use.\n",
        "# Model= widgets.Dropdown(\n",
        "#     options=[\"Bert\",\"RobertA\",\"DistilBert\"],\n",
        "#     value=\"model\",\n",
        "#     description=\"Model to input\",\n",
        "#     disabled=False)\n",
        "\n",
        "# Input= widgest.Text(value=\"\",placeholder=\"Enter Something\",description=\"Input Text\",disabled=False)\n",
        "\n",
        "# def sentiment_check():\n",
        "#   if Model==\"Bert\":\n",
        "#     output= \n",
        "#     print(f\"The sentiment score is: {output}\")\n",
        "\n",
        "# input.on_submit(sentiment_check)\n",
        "# display(Model,Input)"
      ],
      "execution_count": null,
      "outputs": []
    }
  ]
}